{
 "cells": [
  {
   "cell_type": "code",
   "execution_count": 1,
   "metadata": {},
   "outputs": [],
   "source": [
    "# Import libraries \n",
    "#import tqdm\n",
    "import tensorflow as tf \n",
    "import pandas as pd \n",
    "import numpy as np\n",
    "\n",
    "import sklearn.metrics as metrics\n",
    "from sklearn.model_selection import train_test_split\n",
    "from sklearn.ensemble import RandomForestRegressor"
   ]
  },
  {
   "cell_type": "markdown",
   "metadata": {},
   "source": [
    "# Data Preparation"
   ]
  },
  {
   "cell_type": "code",
   "execution_count": 2,
   "metadata": {},
   "outputs": [
    {
     "name": "stdout",
     "output_type": "stream",
     "text": [
      "Num GPUs Available:  0\n"
     ]
    }
   ],
   "source": [
    "# If you are working on local GPU, uncomment the code below\n",
    "print(\"Num GPUs Available: \", len(tf.config.experimental.list_physical_devices('GPU')))"
   ]
  },
  {
   "cell_type": "code",
   "execution_count": 3,
   "metadata": {},
   "outputs": [],
   "source": [
    "# Get the preprocessed data \n",
    "train_df = pd.read_csv(r\"preprocessed_dataset\\train_dataset.csv\")\n",
    "val_df = pd.read_csv(r\"preprocessed_dataset/validation_dataset.csv\")\n",
    "test_df = pd.read_csv(r\"preprocessed_dataset\\test_dataset.csv\")"
   ]
  },
  {
   "cell_type": "code",
   "execution_count": 4,
   "metadata": {},
   "outputs": [
    {
     "data": {
      "text/plain": [
       "((1643131, 3), (1643131,))"
      ]
     },
     "execution_count": 4,
     "metadata": {},
     "output_type": "execute_result"
    }
   ],
   "source": [
    "X_train = train_df.drop([\"sales\"], axis=1).to_numpy()\n",
    "y_train = train_df[\"sales\"].to_numpy()\n",
    "\n",
    "X_val = val_df.drop([\"sales\"], axis=1).to_numpy()\n",
    "y_val = val_df[\"sales\"].to_numpy()\n",
    "\n",
    "X_train.shape, y_train.shape"
   ]
  },
  {
   "cell_type": "code",
   "execution_count": 5,
   "metadata": {},
   "outputs": [
    {
     "data": {
      "text/plain": [
       "<PrefetchDataset element_spec=(TensorSpec(shape=(None, 3), dtype=tf.int64, name=None), TensorSpec(shape=(None,), dtype=tf.float64, name=None))>"
      ]
     },
     "execution_count": 5,
     "metadata": {},
     "output_type": "execute_result"
    }
   ],
   "source": [
    "# Optimize the data \n",
    "train_dataset = tf.data.Dataset.from_tensor_slices((X_train, y_train)) \n",
    "validation_dataset = tf.data.Dataset.from_tensor_slices((X_val, y_val))\n",
    "\n",
    "train_dataset.batch(32).prefetch(tf.data.AUTOTUNE)\n",
    "validation_dataset.batch(32).prefetch(tf.data.AUTOTUNE)"
   ]
  },
  {
   "cell_type": "markdown",
   "metadata": {},
   "source": [
    "# Model 1: Random Forest Regressor"
   ]
  },
  {
   "cell_type": "code",
   "execution_count": 6,
   "metadata": {},
   "outputs": [],
   "source": [
    "\n",
    "# The accuracy will be lesssssss\n",
    "model_1 = RandomForestRegressor(n_estimators=100, max_depth=10, random_state=42).fit(X_train, y_train)"
   ]
  },
  {
   "cell_type": "code",
   "execution_count": 7,
   "metadata": {},
   "outputs": [
    {
     "data": {
      "text/plain": [
       "{'RF_MAE': 158.83819765428268,\n",
       " 'RF_MSE': 297578.63178024115,\n",
       " 'RF_RMSE': 545.5076826042335}"
      ]
     },
     "execution_count": 7,
     "metadata": {},
     "output_type": "execute_result"
    }
   ],
   "source": [
    "# Predict\n",
    "predictions = model_1.predict(X_val)\n",
    "\n",
    "# Evaluate \n",
    "RF_MAE = metrics.mean_absolute_error(y_val, predictions)\n",
    "RF_MSE = metrics.mean_squared_error(y_val, predictions)\n",
    "RF_RMSE = metrics.root_mean_squared_error(y_val, predictions)\n",
    "RF_RMSLE = metrics.root_mean_squared_log_error(y_val, predictions)\n",
    "\n",
    "model_1_results = {\n",
    "    \"RF_MAE\": RF_MAE,\n",
    "    \"RF_MSE\": RF_MSE,\n",
    "    \"RF_RMSE\": RF_RMSE}\n",
    "model_1_results"
   ]
  },
  {
   "cell_type": "markdown",
   "metadata": {},
   "source": [
    "# Model 2: LSTM Model"
   ]
  },
  {
   "cell_type": "code",
   "execution_count": 8,
   "metadata": {},
   "outputs": [
    {
     "name": "stdout",
     "output_type": "stream",
     "text": [
      "Epoch 1/10\n",
      "16432/16431 [==============================] - ETA: 0s - loss: 836483.8125 - mae: 404.6693INFO:tensorflow:Assets written to: sequential\\assets\n",
      "16431/16431 [==============================] - 181s 11ms/step - loss: 836483.8125 - mae: 404.6693 - val_loss: 715721.3125 - val_mae: 388.5994\n",
      "Epoch 2/10\n",
      "16428/16431 [============================>.] - ETA: 0s - loss: 582698.2500 - mae: 325.1281INFO:tensorflow:Assets written to: sequential\\assets\n",
      "16431/16431 [==============================] - 179s 11ms/step - loss: 582659.3125 - mae: 325.1211 - val_loss: 627325.8750 - val_mae: 329.0740\n",
      "Epoch 3/10\n",
      "16426/16431 [============================>.] - ETA: 0s - loss: 570584.9375 - mae: 315.9628INFO:tensorflow:Assets written to: sequential\\assets\n",
      "16431/16431 [==============================] - 177s 11ms/step - loss: 570483.4375 - mae: 315.9324 - val_loss: 558573.8750 - val_mae: 281.6513\n",
      "Epoch 4/10\n",
      "16424/16431 [============================>.] - ETA: 0s - loss: 542585.4375 - mae: 299.2702INFO:tensorflow:Assets written to: sequential\\assets\n",
      "16431/16431 [==============================] - 172s 10ms/step - loss: 542444.7500 - mae: 299.2353 - val_loss: 605715.1250 - val_mae: 300.4372\n",
      "Epoch 5/10\n",
      "16426/16431 [============================>.] - ETA: 0s - loss: 463819.5312 - mae: 267.0303INFO:tensorflow:Assets written to: sequential\\assets\n",
      "16431/16431 [==============================] - 179s 11ms/step - loss: 463937.0938 - mae: 267.0769 - val_loss: 1257107.2500 - val_mae: 420.6121\n",
      "Epoch 6/10\n",
      "16431/16431 [==============================] - 200s 12ms/step - loss: 503299.2812 - mae: 280.9650 - val_loss: 489688.4375 - val_mae: 267.9143\n",
      "Epoch 7/10\n",
      "16429/16431 [============================>.] - ETA: 0s - loss: 428616.4375 - mae: 252.9498INFO:tensorflow:Assets written to: sequential\\assets\n",
      "16431/16431 [==============================] - 218s 13ms/step - loss: 428585.8750 - mae: 252.9495 - val_loss: 594235.5625 - val_mae: 299.7646\n",
      "Epoch 8/10\n",
      "16431/16431 [==============================] - 197s 12ms/step - loss: 446212.8438 - mae: 259.7109 - val_loss: 473313.5625 - val_mae: 273.5424\n",
      "Epoch 9/10\n",
      "16430/16431 [============================>.] - ETA: 0s - loss: 452722.8125 - mae: 266.2339"
     ]
    }
   ],
   "source": [
    "from tensorflow.keras.models import Sequential\n",
    "from tensorflow.keras.layers import LSTM, Dense\n",
    "\n",
    "model_2 = Sequential([\n",
    "    LSTM(128, activation=\"relu\", return_sequences=True, input_shape=(X_train.shape[1], 1)),\n",
    "    LSTM(64, return_sequences=False, activation = \"relu\"),\n",
    "    Dense(25, activation=\"relu\"),\n",
    "    Dense(1)\n",
    "])\n",
    "\n",
    "model_2.compile(loss=\"mean_squared_error\", optimizer=\"adam\", metrics=[\"mae\"])\n",
    "\n",
    "model_2_history = model_2.fit(X_train,\n",
    "                              y_train,\n",
    "                              steps_per_epoch=len(X_train) * 0.01, # Train on 1% of the data\n",
    "                              epochs=10,\n",
    "                              validation_data=(X_val, y_val),\n",
    "                              callbacks=[tf.keras.callbacks.ModelCheckpoint(model_2.name, monitor=\"mae\", save_best_only=True)])"
   ]
  },
  {
   "cell_type": "code",
   "execution_count": null,
   "metadata": {},
   "outputs": [],
   "source": [
    "# Predict\n",
    "predictions = model_2.predict(X_val)\n",
    "\n",
    "# Evaluate \n",
    "LSTM_RMSE = metrics.root_mean_squared_error(y_val, predictions)\n",
    "\n",
    "model_2_results = {\n",
    "    \"LSTM_MAE\": LSTM_MAE,\n",
    "    \"LSTM_MSE\": LSTM_MSE,\n",
    "    \"LSTM_RMSE\": LSTM_RMSE}\n",
    "model_2_results"
   ]
  },
  {
   "cell_type": "code",
   "execution_count": null,
   "metadata": {},
   "outputs": [],
   "source": [
    "# Model 3: \n"
   ]
  },
  {
   "cell_type": "markdown",
   "metadata": {},
   "source": [
    "# Think outside the box \n",
    "**Or create your own training algorithm**"
   ]
  },
  {
   "cell_type": "code",
   "execution_count": null,
   "metadata": {},
   "outputs": [],
   "source": [
    "# Your critical thinking goes here..."
   ]
  }
 ],
 "metadata": {
  "kernelspec": {
   "display_name": "tf",
   "language": "python",
   "name": "python3"
  },
  "language_info": {
   "codemirror_mode": {
    "name": "ipython",
    "version": 3
   },
   "file_extension": ".py",
   "mimetype": "text/x-python",
   "name": "python",
   "nbconvert_exporter": "python",
   "pygments_lexer": "ipython3",
   "version": "3.8.19"
  }
 },
 "nbformat": 4,
 "nbformat_minor": 2
}
