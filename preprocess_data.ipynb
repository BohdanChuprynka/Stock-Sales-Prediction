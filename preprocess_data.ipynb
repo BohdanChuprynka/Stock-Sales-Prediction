{
 "cells": [
  {
   "cell_type": "markdown",
   "metadata": {},
   "source": [
    "***Before running this notebook, make sure you have kaggle.json file in your home directory***"
   ]
  },
  {
   "cell_type": "code",
   "execution_count": 2,
   "metadata": {},
   "outputs": [
    {
     "ename": "KeyboardInterrupt",
     "evalue": "",
     "output_type": "error",
     "traceback": [
      "\u001b[1;31m---------------------------------------------------------------------------\u001b[0m",
      "\u001b[1;31mKeyboardInterrupt\u001b[0m                         Traceback (most recent call last)",
      "Cell \u001b[1;32mIn[2], line 7\u001b[0m\n\u001b[0;32m      5\u001b[0m \u001b[38;5;28;01mimport\u001b[39;00m \u001b[38;5;21;01mmatplotlib\u001b[39;00m\u001b[38;5;21;01m.\u001b[39;00m\u001b[38;5;21;01mpyplot\u001b[39;00m \u001b[38;5;28;01mas\u001b[39;00m               \u001b[38;5;21;01mplt\u001b[39;00m\n\u001b[0;32m      6\u001b[0m \u001b[38;5;28;01mimport\u001b[39;00m                                    \u001b[38;5;21;01mrandom\u001b[39;00m\n\u001b[1;32m----> 7\u001b[0m \u001b[38;5;28;01mimport\u001b[39;00m \u001b[38;5;21;01mtensorflow\u001b[39;00m \u001b[38;5;28;01mas\u001b[39;00m                      \u001b[38;5;21;01mtf\u001b[39;00m\n\u001b[0;32m      8\u001b[0m \u001b[38;5;28;01mfrom\u001b[39;00m \u001b[38;5;21;01msklearn\u001b[39;00m\u001b[38;5;21;01m.\u001b[39;00m\u001b[38;5;21;01mmodel_selection\u001b[39;00m \u001b[38;5;28;01mimport\u001b[39;00m       train_test_split\n\u001b[0;32m      9\u001b[0m \u001b[38;5;28;01mfrom\u001b[39;00m \u001b[38;5;21;01msklearn\u001b[39;00m\u001b[38;5;21;01m.\u001b[39;00m\u001b[38;5;21;01mpreprocessing\u001b[39;00m \u001b[38;5;28;01mimport\u001b[39;00m         LabelEncoder\n",
      "File \u001b[1;32md:\\Code Related\\Anaconda3\\envs\\tf-env\\lib\\site-packages\\tensorflow\\__init__.py:37\u001b[0m\n\u001b[0;32m     34\u001b[0m \u001b[38;5;28;01mimport\u001b[39;00m \u001b[38;5;21;01msys\u001b[39;00m \u001b[38;5;28;01mas\u001b[39;00m \u001b[38;5;21;01m_sys\u001b[39;00m\n\u001b[0;32m     35\u001b[0m \u001b[38;5;28;01mimport\u001b[39;00m \u001b[38;5;21;01mtyping\u001b[39;00m \u001b[38;5;28;01mas\u001b[39;00m \u001b[38;5;21;01m_typing\u001b[39;00m\n\u001b[1;32m---> 37\u001b[0m \u001b[38;5;28;01mfrom\u001b[39;00m \u001b[38;5;21;01mtensorflow\u001b[39;00m\u001b[38;5;21;01m.\u001b[39;00m\u001b[38;5;21;01mpython\u001b[39;00m\u001b[38;5;21;01m.\u001b[39;00m\u001b[38;5;21;01mtools\u001b[39;00m \u001b[38;5;28;01mimport\u001b[39;00m module_util \u001b[38;5;28;01mas\u001b[39;00m _module_util\n\u001b[0;32m     38\u001b[0m \u001b[38;5;28;01mfrom\u001b[39;00m \u001b[38;5;21;01mtensorflow\u001b[39;00m\u001b[38;5;21;01m.\u001b[39;00m\u001b[38;5;21;01mpython\u001b[39;00m\u001b[38;5;21;01m.\u001b[39;00m\u001b[38;5;21;01mutil\u001b[39;00m\u001b[38;5;21;01m.\u001b[39;00m\u001b[38;5;21;01mlazy_loader\u001b[39;00m \u001b[38;5;28;01mimport\u001b[39;00m LazyLoader \u001b[38;5;28;01mas\u001b[39;00m _LazyLoader\n\u001b[0;32m     40\u001b[0m \u001b[38;5;66;03m# Make sure code inside the TensorFlow codebase can use tf2.enabled() at import.\u001b[39;00m\n",
      "File \u001b[1;32md:\\Code Related\\Anaconda3\\envs\\tf-env\\lib\\site-packages\\tensorflow\\python\\__init__.py:42\u001b[0m\n\u001b[0;32m     37\u001b[0m \u001b[38;5;28;01mfrom\u001b[39;00m \u001b[38;5;21;01mtensorflow\u001b[39;00m\u001b[38;5;21;01m.\u001b[39;00m\u001b[38;5;21;01mpython\u001b[39;00m\u001b[38;5;21;01m.\u001b[39;00m\u001b[38;5;21;01meager\u001b[39;00m \u001b[38;5;28;01mimport\u001b[39;00m context\n\u001b[0;32m     39\u001b[0m \u001b[38;5;66;03m# pylint: enable=wildcard-import\u001b[39;00m\n\u001b[0;32m     40\u001b[0m \n\u001b[0;32m     41\u001b[0m \u001b[38;5;66;03m# Bring in subpackages.\u001b[39;00m\n\u001b[1;32m---> 42\u001b[0m \u001b[38;5;28;01mfrom\u001b[39;00m \u001b[38;5;21;01mtensorflow\u001b[39;00m\u001b[38;5;21;01m.\u001b[39;00m\u001b[38;5;21;01mpython\u001b[39;00m \u001b[38;5;28;01mimport\u001b[39;00m data\n\u001b[0;32m     43\u001b[0m \u001b[38;5;28;01mfrom\u001b[39;00m \u001b[38;5;21;01mtensorflow\u001b[39;00m\u001b[38;5;21;01m.\u001b[39;00m\u001b[38;5;21;01mpython\u001b[39;00m \u001b[38;5;28;01mimport\u001b[39;00m distribute\n\u001b[0;32m     44\u001b[0m \u001b[38;5;66;03m# from tensorflow.python import keras\u001b[39;00m\n",
      "File \u001b[1;32md:\\Code Related\\Anaconda3\\envs\\tf-env\\lib\\site-packages\\tensorflow\\python\\data\\__init__.py:21\u001b[0m\n\u001b[0;32m     15\u001b[0m \u001b[38;5;124;03m\"\"\"`tf.data.Dataset` API for input pipelines.\u001b[39;00m\n\u001b[0;32m     16\u001b[0m \n\u001b[0;32m     17\u001b[0m \u001b[38;5;124;03mSee [Importing Data](https://tensorflow.org/guide/data) for an overview.\u001b[39;00m\n\u001b[0;32m     18\u001b[0m \u001b[38;5;124;03m\"\"\"\u001b[39;00m\n\u001b[0;32m     20\u001b[0m \u001b[38;5;66;03m# pylint: disable=unused-import\u001b[39;00m\n\u001b[1;32m---> 21\u001b[0m \u001b[38;5;28;01mfrom\u001b[39;00m \u001b[38;5;21;01mtensorflow\u001b[39;00m\u001b[38;5;21;01m.\u001b[39;00m\u001b[38;5;21;01mpython\u001b[39;00m\u001b[38;5;21;01m.\u001b[39;00m\u001b[38;5;21;01mdata\u001b[39;00m \u001b[38;5;28;01mimport\u001b[39;00m experimental\n\u001b[0;32m     22\u001b[0m \u001b[38;5;28;01mfrom\u001b[39;00m \u001b[38;5;21;01mtensorflow\u001b[39;00m\u001b[38;5;21;01m.\u001b[39;00m\u001b[38;5;21;01mpython\u001b[39;00m\u001b[38;5;21;01m.\u001b[39;00m\u001b[38;5;21;01mdata\u001b[39;00m\u001b[38;5;21;01m.\u001b[39;00m\u001b[38;5;21;01mops\u001b[39;00m\u001b[38;5;21;01m.\u001b[39;00m\u001b[38;5;21;01mdataset_ops\u001b[39;00m \u001b[38;5;28;01mimport\u001b[39;00m AUTOTUNE\n\u001b[0;32m     23\u001b[0m \u001b[38;5;28;01mfrom\u001b[39;00m \u001b[38;5;21;01mtensorflow\u001b[39;00m\u001b[38;5;21;01m.\u001b[39;00m\u001b[38;5;21;01mpython\u001b[39;00m\u001b[38;5;21;01m.\u001b[39;00m\u001b[38;5;21;01mdata\u001b[39;00m\u001b[38;5;21;01m.\u001b[39;00m\u001b[38;5;21;01mops\u001b[39;00m\u001b[38;5;21;01m.\u001b[39;00m\u001b[38;5;21;01mdataset_ops\u001b[39;00m \u001b[38;5;28;01mimport\u001b[39;00m Dataset\n",
      "File \u001b[1;32md:\\Code Related\\Anaconda3\\envs\\tf-env\\lib\\site-packages\\tensorflow\\python\\data\\experimental\\__init__.py:96\u001b[0m\n\u001b[0;32m     15\u001b[0m \u001b[38;5;124;03m\"\"\"Experimental API for building input pipelines.\u001b[39;00m\n\u001b[0;32m     16\u001b[0m \n\u001b[0;32m     17\u001b[0m \u001b[38;5;124;03mThis module contains experimental `Dataset` sources and transformations that can\u001b[39;00m\n\u001b[1;32m   (...)\u001b[0m\n\u001b[0;32m     92\u001b[0m \u001b[38;5;124;03m@@UNKNOWN_CARDINALITY\u001b[39;00m\n\u001b[0;32m     93\u001b[0m \u001b[38;5;124;03m\"\"\"\u001b[39;00m\n\u001b[0;32m     95\u001b[0m \u001b[38;5;66;03m# pylint: disable=unused-import\u001b[39;00m\n\u001b[1;32m---> 96\u001b[0m \u001b[38;5;28;01mfrom\u001b[39;00m \u001b[38;5;21;01mtensorflow\u001b[39;00m\u001b[38;5;21;01m.\u001b[39;00m\u001b[38;5;21;01mpython\u001b[39;00m\u001b[38;5;21;01m.\u001b[39;00m\u001b[38;5;21;01mdata\u001b[39;00m\u001b[38;5;21;01m.\u001b[39;00m\u001b[38;5;21;01mexperimental\u001b[39;00m \u001b[38;5;28;01mimport\u001b[39;00m service\n\u001b[0;32m     97\u001b[0m \u001b[38;5;28;01mfrom\u001b[39;00m \u001b[38;5;21;01mtensorflow\u001b[39;00m\u001b[38;5;21;01m.\u001b[39;00m\u001b[38;5;21;01mpython\u001b[39;00m\u001b[38;5;21;01m.\u001b[39;00m\u001b[38;5;21;01mdata\u001b[39;00m\u001b[38;5;21;01m.\u001b[39;00m\u001b[38;5;21;01mexperimental\u001b[39;00m\u001b[38;5;21;01m.\u001b[39;00m\u001b[38;5;21;01mops\u001b[39;00m\u001b[38;5;21;01m.\u001b[39;00m\u001b[38;5;21;01mbatching\u001b[39;00m \u001b[38;5;28;01mimport\u001b[39;00m dense_to_ragged_batch\n\u001b[0;32m     98\u001b[0m \u001b[38;5;28;01mfrom\u001b[39;00m \u001b[38;5;21;01mtensorflow\u001b[39;00m\u001b[38;5;21;01m.\u001b[39;00m\u001b[38;5;21;01mpython\u001b[39;00m\u001b[38;5;21;01m.\u001b[39;00m\u001b[38;5;21;01mdata\u001b[39;00m\u001b[38;5;21;01m.\u001b[39;00m\u001b[38;5;21;01mexperimental\u001b[39;00m\u001b[38;5;21;01m.\u001b[39;00m\u001b[38;5;21;01mops\u001b[39;00m\u001b[38;5;21;01m.\u001b[39;00m\u001b[38;5;21;01mbatching\u001b[39;00m \u001b[38;5;28;01mimport\u001b[39;00m dense_to_sparse_batch\n",
      "File \u001b[1;32md:\\Code Related\\Anaconda3\\envs\\tf-env\\lib\\site-packages\\tensorflow\\python\\data\\experimental\\service\\__init__.py:419\u001b[0m\n\u001b[0;32m      1\u001b[0m \u001b[38;5;66;03m# Copyright 2020 The TensorFlow Authors. All Rights Reserved.\u001b[39;00m\n\u001b[0;32m      2\u001b[0m \u001b[38;5;66;03m#\u001b[39;00m\n\u001b[0;32m      3\u001b[0m \u001b[38;5;66;03m# Licensed under the Apache License, Version 2.0 (the \"License\");\u001b[39;00m\n\u001b[1;32m   (...)\u001b[0m\n\u001b[0;32m     13\u001b[0m \u001b[38;5;66;03m# limitations under the License.\u001b[39;00m\n\u001b[0;32m     14\u001b[0m \u001b[38;5;66;03m# ==============================================================================\u001b[39;00m\n\u001b[0;32m     15\u001b[0m \u001b[38;5;124;03m\"\"\"API for using the tf.data service.\u001b[39;00m\n\u001b[0;32m     16\u001b[0m \n\u001b[0;32m     17\u001b[0m \u001b[38;5;124;03mThis module contains:\u001b[39;00m\n\u001b[1;32m   (...)\u001b[0m\n\u001b[0;32m    416\u001b[0m \u001b[38;5;124;03m  job of ParameterServerStrategy).\u001b[39;00m\n\u001b[0;32m    417\u001b[0m \u001b[38;5;124;03m\"\"\"\u001b[39;00m\n\u001b[1;32m--> 419\u001b[0m \u001b[38;5;28;01mfrom\u001b[39;00m \u001b[38;5;21;01mtensorflow\u001b[39;00m\u001b[38;5;21;01m.\u001b[39;00m\u001b[38;5;21;01mpython\u001b[39;00m\u001b[38;5;21;01m.\u001b[39;00m\u001b[38;5;21;01mdata\u001b[39;00m\u001b[38;5;21;01m.\u001b[39;00m\u001b[38;5;21;01mexperimental\u001b[39;00m\u001b[38;5;21;01m.\u001b[39;00m\u001b[38;5;21;01mops\u001b[39;00m\u001b[38;5;21;01m.\u001b[39;00m\u001b[38;5;21;01mdata_service_ops\u001b[39;00m \u001b[38;5;28;01mimport\u001b[39;00m distribute\n\u001b[0;32m    420\u001b[0m \u001b[38;5;28;01mfrom\u001b[39;00m \u001b[38;5;21;01mtensorflow\u001b[39;00m\u001b[38;5;21;01m.\u001b[39;00m\u001b[38;5;21;01mpython\u001b[39;00m\u001b[38;5;21;01m.\u001b[39;00m\u001b[38;5;21;01mdata\u001b[39;00m\u001b[38;5;21;01m.\u001b[39;00m\u001b[38;5;21;01mexperimental\u001b[39;00m\u001b[38;5;21;01m.\u001b[39;00m\u001b[38;5;21;01mops\u001b[39;00m\u001b[38;5;21;01m.\u001b[39;00m\u001b[38;5;21;01mdata_service_ops\u001b[39;00m \u001b[38;5;28;01mimport\u001b[39;00m from_dataset_id\n\u001b[0;32m    421\u001b[0m \u001b[38;5;28;01mfrom\u001b[39;00m \u001b[38;5;21;01mtensorflow\u001b[39;00m\u001b[38;5;21;01m.\u001b[39;00m\u001b[38;5;21;01mpython\u001b[39;00m\u001b[38;5;21;01m.\u001b[39;00m\u001b[38;5;21;01mdata\u001b[39;00m\u001b[38;5;21;01m.\u001b[39;00m\u001b[38;5;21;01mexperimental\u001b[39;00m\u001b[38;5;21;01m.\u001b[39;00m\u001b[38;5;21;01mops\u001b[39;00m\u001b[38;5;21;01m.\u001b[39;00m\u001b[38;5;21;01mdata_service_ops\u001b[39;00m \u001b[38;5;28;01mimport\u001b[39;00m register_dataset\n",
      "File \u001b[1;32md:\\Code Related\\Anaconda3\\envs\\tf-env\\lib\\site-packages\\tensorflow\\python\\data\\experimental\\ops\\data_service_ops.py:24\u001b[0m\n\u001b[0;32m     22\u001b[0m \u001b[38;5;28;01mfrom\u001b[39;00m \u001b[38;5;21;01mtensorflow\u001b[39;00m\u001b[38;5;21;01m.\u001b[39;00m\u001b[38;5;21;01mpython\u001b[39;00m \u001b[38;5;28;01mimport\u001b[39;00m tf2\n\u001b[0;32m     23\u001b[0m \u001b[38;5;28;01mfrom\u001b[39;00m \u001b[38;5;21;01mtensorflow\u001b[39;00m\u001b[38;5;21;01m.\u001b[39;00m\u001b[38;5;21;01mpython\u001b[39;00m\u001b[38;5;21;01m.\u001b[39;00m\u001b[38;5;21;01mcompat\u001b[39;00m \u001b[38;5;28;01mimport\u001b[39;00m compat\n\u001b[1;32m---> 24\u001b[0m \u001b[38;5;28;01mfrom\u001b[39;00m \u001b[38;5;21;01mtensorflow\u001b[39;00m\u001b[38;5;21;01m.\u001b[39;00m\u001b[38;5;21;01mpython\u001b[39;00m\u001b[38;5;21;01m.\u001b[39;00m\u001b[38;5;21;01mdata\u001b[39;00m\u001b[38;5;21;01m.\u001b[39;00m\u001b[38;5;21;01mexperimental\u001b[39;00m\u001b[38;5;21;01m.\u001b[39;00m\u001b[38;5;21;01mops\u001b[39;00m \u001b[38;5;28;01mimport\u001b[39;00m compression_ops\n\u001b[0;32m     25\u001b[0m \u001b[38;5;28;01mfrom\u001b[39;00m \u001b[38;5;21;01mtensorflow\u001b[39;00m\u001b[38;5;21;01m.\u001b[39;00m\u001b[38;5;21;01mpython\u001b[39;00m\u001b[38;5;21;01m.\u001b[39;00m\u001b[38;5;21;01mdata\u001b[39;00m\u001b[38;5;21;01m.\u001b[39;00m\u001b[38;5;21;01mexperimental\u001b[39;00m\u001b[38;5;21;01m.\u001b[39;00m\u001b[38;5;21;01mservice\u001b[39;00m \u001b[38;5;28;01mimport\u001b[39;00m _pywrap_server_lib\n\u001b[0;32m     26\u001b[0m \u001b[38;5;28;01mfrom\u001b[39;00m \u001b[38;5;21;01mtensorflow\u001b[39;00m\u001b[38;5;21;01m.\u001b[39;00m\u001b[38;5;21;01mpython\u001b[39;00m\u001b[38;5;21;01m.\u001b[39;00m\u001b[38;5;21;01mdata\u001b[39;00m\u001b[38;5;21;01m.\u001b[39;00m\u001b[38;5;21;01mexperimental\u001b[39;00m\u001b[38;5;21;01m.\u001b[39;00m\u001b[38;5;21;01mservice\u001b[39;00m \u001b[38;5;28;01mimport\u001b[39;00m _pywrap_utils\n",
      "File \u001b[1;32md:\\Code Related\\Anaconda3\\envs\\tf-env\\lib\\site-packages\\tensorflow\\python\\data\\experimental\\ops\\compression_ops.py:16\u001b[0m\n\u001b[0;32m      1\u001b[0m \u001b[38;5;66;03m# Copyright 2020 The TensorFlow Authors. All Rights Reserved.\u001b[39;00m\n\u001b[0;32m      2\u001b[0m \u001b[38;5;66;03m#\u001b[39;00m\n\u001b[0;32m      3\u001b[0m \u001b[38;5;66;03m# Licensed under the Apache License, Version 2.0 (the \"License\");\u001b[39;00m\n\u001b[1;32m   (...)\u001b[0m\n\u001b[0;32m     13\u001b[0m \u001b[38;5;66;03m# limitations under the License.\u001b[39;00m\n\u001b[0;32m     14\u001b[0m \u001b[38;5;66;03m# ==============================================================================\u001b[39;00m\n\u001b[0;32m     15\u001b[0m \u001b[38;5;124;03m\"\"\"Ops for compressing and uncompressing dataset elements.\"\"\"\u001b[39;00m\n\u001b[1;32m---> 16\u001b[0m \u001b[38;5;28;01mfrom\u001b[39;00m \u001b[38;5;21;01mtensorflow\u001b[39;00m\u001b[38;5;21;01m.\u001b[39;00m\u001b[38;5;21;01mpython\u001b[39;00m\u001b[38;5;21;01m.\u001b[39;00m\u001b[38;5;21;01mdata\u001b[39;00m\u001b[38;5;21;01m.\u001b[39;00m\u001b[38;5;21;01mutil\u001b[39;00m \u001b[38;5;28;01mimport\u001b[39;00m structure\n\u001b[0;32m     17\u001b[0m \u001b[38;5;28;01mfrom\u001b[39;00m \u001b[38;5;21;01mtensorflow\u001b[39;00m\u001b[38;5;21;01m.\u001b[39;00m\u001b[38;5;21;01mpython\u001b[39;00m\u001b[38;5;21;01m.\u001b[39;00m\u001b[38;5;21;01mops\u001b[39;00m \u001b[38;5;28;01mimport\u001b[39;00m gen_experimental_dataset_ops \u001b[38;5;28;01mas\u001b[39;00m ged_ops\n\u001b[0;32m     20\u001b[0m \u001b[38;5;28;01mdef\u001b[39;00m \u001b[38;5;21mcompress\u001b[39m(element):\n",
      "File \u001b[1;32md:\\Code Related\\Anaconda3\\envs\\tf-env\\lib\\site-packages\\tensorflow\\python\\data\\util\\structure.py:23\u001b[0m\n\u001b[0;32m     20\u001b[0m \u001b[38;5;28;01mimport\u001b[39;00m \u001b[38;5;21;01msix\u001b[39;00m\n\u001b[0;32m     21\u001b[0m \u001b[38;5;28;01mimport\u001b[39;00m \u001b[38;5;21;01mwrapt\u001b[39;00m\n\u001b[1;32m---> 23\u001b[0m \u001b[38;5;28;01mfrom\u001b[39;00m \u001b[38;5;21;01mtensorflow\u001b[39;00m\u001b[38;5;21;01m.\u001b[39;00m\u001b[38;5;21;01mpython\u001b[39;00m\u001b[38;5;21;01m.\u001b[39;00m\u001b[38;5;21;01mdata\u001b[39;00m\u001b[38;5;21;01m.\u001b[39;00m\u001b[38;5;21;01mutil\u001b[39;00m \u001b[38;5;28;01mimport\u001b[39;00m nest\n\u001b[0;32m     24\u001b[0m \u001b[38;5;28;01mfrom\u001b[39;00m \u001b[38;5;21;01mtensorflow\u001b[39;00m\u001b[38;5;21;01m.\u001b[39;00m\u001b[38;5;21;01mpython\u001b[39;00m\u001b[38;5;21;01m.\u001b[39;00m\u001b[38;5;21;01mframework\u001b[39;00m \u001b[38;5;28;01mimport\u001b[39;00m composite_tensor\n\u001b[0;32m     25\u001b[0m \u001b[38;5;28;01mfrom\u001b[39;00m \u001b[38;5;21;01mtensorflow\u001b[39;00m\u001b[38;5;21;01m.\u001b[39;00m\u001b[38;5;21;01mpython\u001b[39;00m\u001b[38;5;21;01m.\u001b[39;00m\u001b[38;5;21;01mframework\u001b[39;00m \u001b[38;5;28;01mimport\u001b[39;00m ops\n",
      "File \u001b[1;32md:\\Code Related\\Anaconda3\\envs\\tf-env\\lib\\site-packages\\tensorflow\\python\\data\\util\\nest.py:36\u001b[0m\n\u001b[0;32m     16\u001b[0m \u001b[38;5;124;03m\"\"\"## Functions for working with arbitrarily nested sequences of elements.\u001b[39;00m\n\u001b[0;32m     17\u001b[0m \n\u001b[0;32m     18\u001b[0m \u001b[38;5;124;03mNOTE(mrry): This fork of the `tensorflow.python.util.nest` module\u001b[39;00m\n\u001b[1;32m   (...)\u001b[0m\n\u001b[0;32m     31\u001b[0m \u001b[38;5;124;03m   arrays.\u001b[39;00m\n\u001b[0;32m     32\u001b[0m \u001b[38;5;124;03m\"\"\"\u001b[39;00m\n\u001b[0;32m     34\u001b[0m \u001b[38;5;28;01mimport\u001b[39;00m \u001b[38;5;21;01msix\u001b[39;00m \u001b[38;5;28;01mas\u001b[39;00m \u001b[38;5;21;01m_six\u001b[39;00m\n\u001b[1;32m---> 36\u001b[0m \u001b[38;5;28;01mfrom\u001b[39;00m \u001b[38;5;21;01mtensorflow\u001b[39;00m\u001b[38;5;21;01m.\u001b[39;00m\u001b[38;5;21;01mpython\u001b[39;00m\u001b[38;5;21;01m.\u001b[39;00m\u001b[38;5;21;01mframework\u001b[39;00m \u001b[38;5;28;01mimport\u001b[39;00m sparse_tensor \u001b[38;5;28;01mas\u001b[39;00m _sparse_tensor\n\u001b[0;32m     37\u001b[0m \u001b[38;5;28;01mfrom\u001b[39;00m \u001b[38;5;21;01mtensorflow\u001b[39;00m\u001b[38;5;21;01m.\u001b[39;00m\u001b[38;5;21;01mpython\u001b[39;00m\u001b[38;5;21;01m.\u001b[39;00m\u001b[38;5;21;01mutil\u001b[39;00m \u001b[38;5;28;01mimport\u001b[39;00m _pywrap_utils\n\u001b[0;32m     38\u001b[0m \u001b[38;5;28;01mfrom\u001b[39;00m \u001b[38;5;21;01mtensorflow\u001b[39;00m\u001b[38;5;21;01m.\u001b[39;00m\u001b[38;5;21;01mpython\u001b[39;00m\u001b[38;5;21;01m.\u001b[39;00m\u001b[38;5;21;01mutil\u001b[39;00m \u001b[38;5;28;01mimport\u001b[39;00m nest\n",
      "File \u001b[1;32md:\\Code Related\\Anaconda3\\envs\\tf-env\\lib\\site-packages\\tensorflow\\python\\framework\\sparse_tensor.py:24\u001b[0m\n\u001b[0;32m     22\u001b[0m \u001b[38;5;28;01mfrom\u001b[39;00m \u001b[38;5;21;01mtensorflow\u001b[39;00m\u001b[38;5;21;01m.\u001b[39;00m\u001b[38;5;21;01mpython\u001b[39;00m \u001b[38;5;28;01mimport\u001b[39;00m tf2\n\u001b[0;32m     23\u001b[0m \u001b[38;5;28;01mfrom\u001b[39;00m \u001b[38;5;21;01mtensorflow\u001b[39;00m\u001b[38;5;21;01m.\u001b[39;00m\u001b[38;5;21;01mpython\u001b[39;00m\u001b[38;5;21;01m.\u001b[39;00m\u001b[38;5;21;01mframework\u001b[39;00m \u001b[38;5;28;01mimport\u001b[39;00m composite_tensor\n\u001b[1;32m---> 24\u001b[0m \u001b[38;5;28;01mfrom\u001b[39;00m \u001b[38;5;21;01mtensorflow\u001b[39;00m\u001b[38;5;21;01m.\u001b[39;00m\u001b[38;5;21;01mpython\u001b[39;00m\u001b[38;5;21;01m.\u001b[39;00m\u001b[38;5;21;01mframework\u001b[39;00m \u001b[38;5;28;01mimport\u001b[39;00m constant_op\n\u001b[0;32m     25\u001b[0m \u001b[38;5;28;01mfrom\u001b[39;00m \u001b[38;5;21;01mtensorflow\u001b[39;00m\u001b[38;5;21;01m.\u001b[39;00m\u001b[38;5;21;01mpython\u001b[39;00m\u001b[38;5;21;01m.\u001b[39;00m\u001b[38;5;21;01mframework\u001b[39;00m \u001b[38;5;28;01mimport\u001b[39;00m dtypes\n\u001b[0;32m     26\u001b[0m \u001b[38;5;28;01mfrom\u001b[39;00m \u001b[38;5;21;01mtensorflow\u001b[39;00m\u001b[38;5;21;01m.\u001b[39;00m\u001b[38;5;21;01mpython\u001b[39;00m\u001b[38;5;21;01m.\u001b[39;00m\u001b[38;5;21;01mframework\u001b[39;00m \u001b[38;5;28;01mimport\u001b[39;00m ops\n",
      "File \u001b[1;32md:\\Code Related\\Anaconda3\\envs\\tf-env\\lib\\site-packages\\tensorflow\\python\\framework\\constant_op.py:25\u001b[0m\n\u001b[0;32m     23\u001b[0m \u001b[38;5;28;01mfrom\u001b[39;00m \u001b[38;5;21;01mtensorflow\u001b[39;00m\u001b[38;5;21;01m.\u001b[39;00m\u001b[38;5;21;01mcore\u001b[39;00m\u001b[38;5;21;01m.\u001b[39;00m\u001b[38;5;21;01mframework\u001b[39;00m \u001b[38;5;28;01mimport\u001b[39;00m types_pb2\n\u001b[0;32m     24\u001b[0m \u001b[38;5;28;01mfrom\u001b[39;00m \u001b[38;5;21;01mtensorflow\u001b[39;00m\u001b[38;5;21;01m.\u001b[39;00m\u001b[38;5;21;01mpython\u001b[39;00m\u001b[38;5;21;01m.\u001b[39;00m\u001b[38;5;21;01meager\u001b[39;00m \u001b[38;5;28;01mimport\u001b[39;00m context\n\u001b[1;32m---> 25\u001b[0m \u001b[38;5;28;01mfrom\u001b[39;00m \u001b[38;5;21;01mtensorflow\u001b[39;00m\u001b[38;5;21;01m.\u001b[39;00m\u001b[38;5;21;01mpython\u001b[39;00m\u001b[38;5;21;01m.\u001b[39;00m\u001b[38;5;21;01meager\u001b[39;00m \u001b[38;5;28;01mimport\u001b[39;00m execute\n\u001b[0;32m     26\u001b[0m \u001b[38;5;28;01mfrom\u001b[39;00m \u001b[38;5;21;01mtensorflow\u001b[39;00m\u001b[38;5;21;01m.\u001b[39;00m\u001b[38;5;21;01mpython\u001b[39;00m\u001b[38;5;21;01m.\u001b[39;00m\u001b[38;5;21;01mframework\u001b[39;00m \u001b[38;5;28;01mimport\u001b[39;00m dtypes\n\u001b[0;32m     27\u001b[0m \u001b[38;5;28;01mfrom\u001b[39;00m \u001b[38;5;21;01mtensorflow\u001b[39;00m\u001b[38;5;21;01m.\u001b[39;00m\u001b[38;5;21;01mpython\u001b[39;00m\u001b[38;5;21;01m.\u001b[39;00m\u001b[38;5;21;01mframework\u001b[39;00m \u001b[38;5;28;01mimport\u001b[39;00m op_callbacks\n",
      "File \u001b[1;32md:\\Code Related\\Anaconda3\\envs\\tf-env\\lib\\site-packages\\tensorflow\\python\\eager\\execute.py:22\u001b[0m\n\u001b[0;32m     20\u001b[0m \u001b[38;5;28;01mfrom\u001b[39;00m \u001b[38;5;21;01mtensorflow\u001b[39;00m\u001b[38;5;21;01m.\u001b[39;00m\u001b[38;5;21;01mcore\u001b[39;00m\u001b[38;5;21;01m.\u001b[39;00m\u001b[38;5;21;01mframework\u001b[39;00m \u001b[38;5;28;01mimport\u001b[39;00m tensor_pb2\n\u001b[0;32m     21\u001b[0m \u001b[38;5;28;01mfrom\u001b[39;00m \u001b[38;5;21;01mtensorflow\u001b[39;00m\u001b[38;5;21;01m.\u001b[39;00m\u001b[38;5;21;01mpython\u001b[39;00m \u001b[38;5;28;01mimport\u001b[39;00m pywrap_tfe\n\u001b[1;32m---> 22\u001b[0m \u001b[38;5;28;01mfrom\u001b[39;00m \u001b[38;5;21;01mtensorflow\u001b[39;00m\u001b[38;5;21;01m.\u001b[39;00m\u001b[38;5;21;01mpython\u001b[39;00m\u001b[38;5;21;01m.\u001b[39;00m\u001b[38;5;21;01meager\u001b[39;00m \u001b[38;5;28;01mimport\u001b[39;00m core\n\u001b[0;32m     23\u001b[0m \u001b[38;5;28;01mfrom\u001b[39;00m \u001b[38;5;21;01mtensorflow\u001b[39;00m\u001b[38;5;21;01m.\u001b[39;00m\u001b[38;5;21;01mpython\u001b[39;00m\u001b[38;5;21;01m.\u001b[39;00m\u001b[38;5;21;01mframework\u001b[39;00m \u001b[38;5;28;01mimport\u001b[39;00m dtypes\n\u001b[0;32m     24\u001b[0m \u001b[38;5;28;01mfrom\u001b[39;00m \u001b[38;5;21;01mtensorflow\u001b[39;00m\u001b[38;5;21;01m.\u001b[39;00m\u001b[38;5;21;01mpython\u001b[39;00m\u001b[38;5;21;01m.\u001b[39;00m\u001b[38;5;21;01mframework\u001b[39;00m \u001b[38;5;28;01mimport\u001b[39;00m ops\n",
      "File \u001b[1;32md:\\Code Related\\Anaconda3\\envs\\tf-env\\lib\\site-packages\\tensorflow\\python\\eager\\core.py:18\u001b[0m\n\u001b[0;32m     15\u001b[0m \u001b[38;5;124;03m\"\"\"Experimental API for TensorFlow's \"Eager\" mode of execution.\"\"\"\u001b[39;00m\n\u001b[0;32m     17\u001b[0m \u001b[38;5;28;01mfrom\u001b[39;00m \u001b[38;5;21;01mtensorflow\u001b[39;00m\u001b[38;5;21;01m.\u001b[39;00m\u001b[38;5;21;01mpython\u001b[39;00m \u001b[38;5;28;01mimport\u001b[39;00m pywrap_tfe\n\u001b[1;32m---> 18\u001b[0m \u001b[38;5;28;01mfrom\u001b[39;00m \u001b[38;5;21;01mtensorflow\u001b[39;00m\u001b[38;5;21;01m.\u001b[39;00m\u001b[38;5;21;01mpython\u001b[39;00m\u001b[38;5;21;01m.\u001b[39;00m\u001b[38;5;21;01mframework\u001b[39;00m \u001b[38;5;28;01mimport\u001b[39;00m errors\n\u001b[0;32m     20\u001b[0m \u001b[38;5;66;03m# Trace of execution and memory usage.\u001b[39;00m\n\u001b[0;32m     21\u001b[0m _active_trace \u001b[38;5;241m=\u001b[39m \u001b[38;5;28;01mNone\u001b[39;00m\n",
      "File \u001b[1;32md:\\Code Related\\Anaconda3\\envs\\tf-env\\lib\\site-packages\\tensorflow\\python\\framework\\errors.py:18\u001b[0m\n\u001b[0;32m     15\u001b[0m \u001b[38;5;124;03m\"\"\"Exception types for TensorFlow errors.\"\"\"\u001b[39;00m\n\u001b[0;32m     17\u001b[0m \u001b[38;5;66;03m# pylint: disable=unused-import\u001b[39;00m\n\u001b[1;32m---> 18\u001b[0m \u001b[38;5;28;01mfrom\u001b[39;00m \u001b[38;5;21;01mtensorflow\u001b[39;00m\u001b[38;5;21;01m.\u001b[39;00m\u001b[38;5;21;01mpython\u001b[39;00m\u001b[38;5;21;01m.\u001b[39;00m\u001b[38;5;21;01mframework\u001b[39;00m \u001b[38;5;28;01mimport\u001b[39;00m errors_impl \u001b[38;5;28;01mas\u001b[39;00m _impl\n\u001b[0;32m     19\u001b[0m \u001b[38;5;66;03m# pylint: enable=unused-import\u001b[39;00m\n\u001b[0;32m     20\u001b[0m \u001b[38;5;66;03m# go/tf-wildcard-import\u001b[39;00m\n\u001b[0;32m     21\u001b[0m \u001b[38;5;66;03m# pylint: disable=wildcard-import\u001b[39;00m\n\u001b[0;32m     22\u001b[0m \u001b[38;5;28;01mfrom\u001b[39;00m \u001b[38;5;21;01mtensorflow\u001b[39;00m\u001b[38;5;21;01m.\u001b[39;00m\u001b[38;5;21;01mpython\u001b[39;00m\u001b[38;5;21;01m.\u001b[39;00m\u001b[38;5;21;01mframework\u001b[39;00m\u001b[38;5;21;01m.\u001b[39;00m\u001b[38;5;21;01merrors_impl\u001b[39;00m \u001b[38;5;28;01mimport\u001b[39;00m \u001b[38;5;241m*\u001b[39m\n",
      "File \u001b[1;32md:\\Code Related\\Anaconda3\\envs\\tf-env\\lib\\site-packages\\tensorflow\\python\\framework\\errors_impl.py:21\u001b[0m\n\u001b[0;32m     18\u001b[0m \u001b[38;5;28;01mimport\u001b[39;00m \u001b[38;5;21;01mwarnings\u001b[39;00m\n\u001b[0;32m     20\u001b[0m \u001b[38;5;28;01mfrom\u001b[39;00m \u001b[38;5;21;01mtensorflow\u001b[39;00m\u001b[38;5;21;01m.\u001b[39;00m\u001b[38;5;21;01mcore\u001b[39;00m\u001b[38;5;21;01m.\u001b[39;00m\u001b[38;5;21;01mlib\u001b[39;00m\u001b[38;5;21;01m.\u001b[39;00m\u001b[38;5;21;01mcore\u001b[39;00m \u001b[38;5;28;01mimport\u001b[39;00m error_codes_pb2\n\u001b[1;32m---> 21\u001b[0m \u001b[38;5;28;01mfrom\u001b[39;00m \u001b[38;5;21;01mtensorflow\u001b[39;00m\u001b[38;5;21;01m.\u001b[39;00m\u001b[38;5;21;01mpython\u001b[39;00m \u001b[38;5;28;01mimport\u001b[39;00m _pywrap_py_exception_registry\n\u001b[0;32m     22\u001b[0m \u001b[38;5;28;01mfrom\u001b[39;00m \u001b[38;5;21;01mtensorflow\u001b[39;00m\u001b[38;5;21;01m.\u001b[39;00m\u001b[38;5;21;01mpython\u001b[39;00m\u001b[38;5;21;01m.\u001b[39;00m\u001b[38;5;21;01mclient\u001b[39;00m \u001b[38;5;28;01mimport\u001b[39;00m pywrap_tf_session \u001b[38;5;28;01mas\u001b[39;00m c_api\n\u001b[0;32m     23\u001b[0m \u001b[38;5;28;01mfrom\u001b[39;00m \u001b[38;5;21;01mtensorflow\u001b[39;00m\u001b[38;5;21;01m.\u001b[39;00m\u001b[38;5;21;01mpython\u001b[39;00m\u001b[38;5;21;01m.\u001b[39;00m\u001b[38;5;21;01mframework\u001b[39;00m \u001b[38;5;28;01mimport\u001b[39;00m c_api_util\n",
      "\u001b[1;31mKeyboardInterrupt\u001b[0m: "
     ]
    }
   ],
   "source": [
    "# Import libraries\n",
    "\n",
    "import pandas as                          pd\n",
    "import numpy as                           np\n",
    "import matplotlib.pyplot as               plt\n",
    "import                                    random\n",
    "import tensorflow as                      tf\n",
    "from sklearn.model_selection import       train_test_split\n",
    "from sklearn.preprocessing import         LabelEncoder"
   ]
  },
  {
   "cell_type": "markdown",
   "metadata": {},
   "source": [
    "# Load and Visualize "
   ]
  },
  {
   "cell_type": "code",
   "execution_count": 7,
   "metadata": {},
   "outputs": [
    {
     "name": "stdout",
     "output_type": "stream",
     "text": [
      "Downloading store-sales-time-series-forecasting.zip to d:\\Code Related\\Coding - AI - Tech Related\\VS Code\\Projects\\AI - Data Science Projects\\Stock Sales Kaggle Time Series\n",
      "\n"
     ]
    },
    {
     "name": "stderr",
     "output_type": "stream",
     "text": [
      "\n",
      "  0%|          | 0.00/21.4M [00:00<?, ?B/s]\n",
      "  5%|▍         | 1.00M/21.4M [00:00<00:03, 6.04MB/s]\n",
      " 23%|██▎       | 5.00M/21.4M [00:00<00:00, 21.2MB/s]\n",
      " 37%|███▋      | 8.00M/21.4M [00:00<00:00, 23.3MB/s]\n",
      " 70%|███████   | 15.0M/21.4M [00:00<00:00, 37.5MB/s]\n",
      " 94%|█████████▎| 20.0M/21.4M [00:00<00:00, 40.5MB/s]\n",
      "100%|██████████| 21.4M/21.4M [00:00<00:00, 33.4MB/s]\n"
     ]
    }
   ],
   "source": [
    "!kaggle competitions download -c store-sales-time-series-forecasting"
   ]
  },
  {
   "cell_type": "code",
   "execution_count": 8,
   "metadata": {},
   "outputs": [],
   "source": [
    "import zipfile \n",
    "import os \n",
    "\n",
    "archive = zipfile.ZipFile('store-sales-time-series-forecasting.zip')\n",
    "\n",
    "for file in archive.namelist():\n",
    "    archive.extract(file, 'kaggle-dataset')"
   ]
  },
  {
   "cell_type": "code",
   "execution_count": 12,
   "metadata": {},
   "outputs": [
    {
     "ename": "PermissionError",
     "evalue": "[WinError 32] The process cannot access the file because it is being used by another process: 'store-sales-time-series-forecasting.zip'",
     "output_type": "error",
     "traceback": [
      "\u001b[1;31m---------------------------------------------------------------------------\u001b[0m",
      "\u001b[1;31mPermissionError\u001b[0m                           Traceback (most recent call last)",
      "Cell \u001b[1;32mIn[12], line 1\u001b[0m\n\u001b[1;32m----> 1\u001b[0m \u001b[43mos\u001b[49m\u001b[38;5;241;43m.\u001b[39;49m\u001b[43mremove\u001b[49m\u001b[43m(\u001b[49m\u001b[38;5;124;43m\"\u001b[39;49m\u001b[38;5;124;43mstore-sales-time-series-forecasting.zip\u001b[39;49m\u001b[38;5;124;43m\"\u001b[39;49m\u001b[43m)\u001b[49m\n",
      "\u001b[1;31mPermissionError\u001b[0m: [WinError 32] The process cannot access the file because it is being used by another process: 'store-sales-time-series-forecasting.zip'"
     ]
    }
   ],
   "source": [
    "os.remove(\"store-sales-time-series-forecasting.zip\")"
   ]
  },
  {
   "cell_type": "code",
   "execution_count": 32,
   "metadata": {},
   "outputs": [
    {
     "data": {
      "text/html": [
       "<div>\n",
       "<style scoped>\n",
       "    .dataframe tbody tr th:only-of-type {\n",
       "        vertical-align: middle;\n",
       "    }\n",
       "\n",
       "    .dataframe tbody tr th {\n",
       "        vertical-align: top;\n",
       "    }\n",
       "\n",
       "    .dataframe thead th {\n",
       "        text-align: right;\n",
       "    }\n",
       "</style>\n",
       "<table border=\"1\" class=\"dataframe\">\n",
       "  <thead>\n",
       "    <tr style=\"text-align: right;\">\n",
       "      <th></th>\n",
       "      <th>id</th>\n",
       "      <th>date</th>\n",
       "      <th>store_nbr</th>\n",
       "      <th>family</th>\n",
       "      <th>sales</th>\n",
       "      <th>onpromotion</th>\n",
       "    </tr>\n",
       "  </thead>\n",
       "  <tbody>\n",
       "    <tr>\n",
       "      <th>0</th>\n",
       "      <td>0</td>\n",
       "      <td>2013-01-01</td>\n",
       "      <td>1</td>\n",
       "      <td>AUTOMOTIVE</td>\n",
       "      <td>0.0</td>\n",
       "      <td>0</td>\n",
       "    </tr>\n",
       "    <tr>\n",
       "      <th>1</th>\n",
       "      <td>1</td>\n",
       "      <td>2013-01-01</td>\n",
       "      <td>1</td>\n",
       "      <td>BABY CARE</td>\n",
       "      <td>0.0</td>\n",
       "      <td>0</td>\n",
       "    </tr>\n",
       "    <tr>\n",
       "      <th>2</th>\n",
       "      <td>2</td>\n",
       "      <td>2013-01-01</td>\n",
       "      <td>1</td>\n",
       "      <td>BEAUTY</td>\n",
       "      <td>0.0</td>\n",
       "      <td>0</td>\n",
       "    </tr>\n",
       "  </tbody>\n",
       "</table>\n",
       "</div>"
      ],
      "text/plain": [
       "   id        date  store_nbr      family  sales  onpromotion\n",
       "0   0  2013-01-01          1  AUTOMOTIVE    0.0            0\n",
       "1   1  2013-01-01          1   BABY CARE    0.0            0\n",
       "2   2  2013-01-01          1      BEAUTY    0.0            0"
      ]
     },
     "execution_count": 32,
     "metadata": {},
     "output_type": "execute_result"
    }
   ],
   "source": [
    "# Load data\n",
    "\n",
    "train_dataset = pd.read_csv(r'kaggle-dataset\\train.csv') \n",
    "test_data = pd.read_csv(r'kaggle-dataset\\test.csv')\n",
    "\n",
    "# Sub data\n",
    "oil_data = pd.read_csv(r'kaggle-dataset\\oil.csv')\n",
    "holiday_events = pd.read_csv(r'kaggle-dataset\\holidays_events.csv') \n",
    "stores_csv = pd.read_csv(r'kaggle-dataset\\stores.csv')\n",
    "# Note: We are not using transactions.csv since it doesn't contain data for test.csv\n",
    "\n",
    "train_dataset[:3]"
   ]
  },
  {
   "cell_type": "code",
   "execution_count": 33,
   "metadata": {},
   "outputs": [
    {
     "name": "stdout",
     "output_type": "stream",
     "text": [
      "Min sales: 0.0\n",
      "Max sales: 124717.0\n",
      "Mean sales: 357.77574911261894\n",
      "Train shape: (3000888, 6)\n",
      "Test shape: (28512, 5)\n",
      "There are 379609 unique values of sales in train data\n",
      "There are 939130 rows with 0 sales in train data\n",
      "There are 33 unique families\n"
     ]
    },
    {
     "data": {
      "text/plain": [
       "id               int64\n",
       "date            object\n",
       "store_nbr        int64\n",
       "family          object\n",
       "sales          float64\n",
       "onpromotion      int64\n",
       "dtype: object"
      ]
     },
     "execution_count": 33,
     "metadata": {},
     "output_type": "execute_result"
    }
   ],
   "source": [
    "print(f\"Min sales: {min(train_dataset['sales'])}\")\n",
    "print(f\"Max sales: {max(train_dataset['sales'])}\")\n",
    "print(f\"Mean sales: {np.mean(train_dataset['sales'])}\")\n",
    "print(f\"Train shape: {train_dataset.shape}\")\n",
    "print(f\"Test shape: {test_data.shape}\")\n",
    "print(f\"There are {len(train_dataset['sales'][train_dataset['sales'] > 0].unique())} unique values of sales in train data\")\n",
    "print(f\"There are {len(train_dataset['sales'][train_dataset['sales'] == 0])} rows with 0 sales in train data\")\n",
    "print(f\"There are {len(train_dataset['family'].unique())} unique families\")\n",
    "\n",
    "# Dtypes \n",
    "train_dataset.dtypes"
   ]
  },
  {
   "cell_type": "markdown",
   "metadata": {},
   "source": [
    "# Preprocess data"
   ]
  },
  {
   "cell_type": "code",
   "execution_count": 34,
   "metadata": {},
   "outputs": [
    {
     "name": "stdout",
     "output_type": "stream",
     "text": [
      "Missing values for oil data: 43\n",
      "Missing values for holiday data: 0\n",
      "Missing values for stores data: 0\n"
     ]
    }
   ],
   "source": [
    "# Check is there any missing values\n",
    "print(f\"Missing values for oil data: {oil_data.isna().sum().sum()}\")\n",
    "print(f\"Missing values for holiday data: {holiday_events.isna().sum().sum()}\")\n",
    "print(f\"Missing values for stores data: {stores_csv.isna().sum().sum()}\")"
   ]
  },
  {
   "cell_type": "code",
   "execution_count": 35,
   "metadata": {},
   "outputs": [],
   "source": [
    "# Pandas is needed\n",
    "\n",
    "def fill_missing_values(dataset_column, decimals: int = 2):\n",
    "    \"\"\" \n",
    "    Iterating through the dataset and filling the missing values by mean of previous and next value\n",
    "    \n",
    "    Args:\n",
    "        dataset_column (pandas.DataFrame): Column with missing values to fill\n",
    "        decimals (int, optional): Number of decimal places to round to\n",
    "    \n",
    "    Returns:\n",
    "        pandas.DataFrame: The filled dataset\n",
    "    \"\"\"\n",
    "    \n",
    "    # Avoid aliasing\n",
    "    dataset_column = dataset_column.copy()\n",
    "    \n",
    "    # Usual change is the mean of changes in values.\n",
    "    usual_change = round(dataset_column.diff().dropna().mean(), decimals) # Mean change for every value in the column dataset\n",
    "\n",
    "    for i in range(0, len(dataset_column)):\n",
    "        \n",
    "        if not pd.isna(dataset_column[i]):\n",
    "            continue\n",
    "        \n",
    "        if i == 0 and pd.isna(dataset_column[i]):\n",
    "            first_valid_index = dataset_column.first_valid_index()\n",
    "            dataset_column[i] = dataset_column[first_valid_index] - usual_change\n",
    "                \n",
    "        elif i == len(dataset_column) - 1:\n",
    "            if pd.isna(dataset_column[i]):\n",
    "                dataset_column[i] = dataset_column[i - 1] + usual_change\n",
    "                            \n",
    "            # If the last value is not missing, return already filled column\n",
    "            return dataset_column\n",
    "        # Handling values in between                            FIX \n",
    "        else:\n",
    "            previous_value = dataset_column[i - 1]\n",
    "            next_value = dataset_column[i + 1]\n",
    "\n",
    "            \n",
    "            if pd.isna(next_value):\n",
    "                next_value = dataset_column[dataset_column[i+1:].first_valid_index()]\n",
    "                # If next_value wasn't found, then add the usual change\n",
    "                if pd.isna(next_value):\n",
    "                    dataset_column[i] = previous_value + usual_change\n",
    "                    continue\n",
    "            dataset_column[i] = round((previous_value + next_value) / 2, 2)\n",
    "            \n",
    "    return dataset_column"
   ]
  },
  {
   "cell_type": "markdown",
   "metadata": {},
   "source": [
    "## **Sub Data: Row Inserting and Processing** \n",
    "\n",
    "Let's find all the **\"date\"** rows that our **oil_price** dataset doesn't have compared with our main datasets. It will help in future with filling our main datasets"
   ]
  },
  {
   "cell_type": "code",
   "execution_count": 36,
   "metadata": {},
   "outputs": [],
   "source": [
    "# A function that will sync data column in sub data with our training and test data\n",
    "def sync_data_column(sub_data, train_data, test_data):\n",
    "    \"\"\" \n",
    "    This function will sync data column in sub data with our training and test data\n",
    "    \n",
    "    Args:\n",
    "        sub_data (pandas.DataFrame) : The sub data to sync\n",
    "        train_data (pandas.DataFrame): The training data\n",
    "        test_data (pandas.DataFrame): The test data\n",
    "    \n",
    "    Returns:\n",
    "        pandas.DataFrame: provided sub_data with added date columns (Synced columns will contain missing values)\n",
    "    \"\"\"\n",
    "\n",
    "    missing_dates_train = train_dataset[~train_dataset['date'].isin(sub_data['date'])]['date'].unique()\n",
    "    missing_dates_test = test_data[~test_data['date'].isin(sub_data['date'])]['date'].unique()\n",
    "\n",
    "    missing_dates_train = pd.DataFrame(missing_dates_train, columns=['date'])\n",
    "    missing_dates_test = pd.DataFrame(missing_dates_test, columns=['date'])\n",
    "\n",
    "    # Fill for train and test\n",
    "    sub_data = pd.concat([sub_data, missing_dates_train], ignore_index=True).sort_values(by='date').reset_index(drop=True)\n",
    "    sub_data = pd.concat([sub_data, missing_dates_test], ignore_index=True).sort_values(by='date').reset_index(drop=True)\n",
    "\n",
    "\n",
    "    return sub_data"
   ]
  },
  {
   "cell_type": "markdown",
   "metadata": {},
   "source": [
    "### Preprocess oil.csv"
   ]
  },
  {
   "cell_type": "code",
   "execution_count": 37,
   "metadata": {},
   "outputs": [
    {
     "name": "stdout",
     "output_type": "stream",
     "text": [
      "Missing values for oil data before: 528\n",
      "Missing values for oil data after: 0\n",
      "CPU times: total: 234 ms\n",
      "Wall time: 268 ms\n"
     ]
    },
    {
     "data": {
      "text/html": [
       "<div>\n",
       "<style scoped>\n",
       "    .dataframe tbody tr th:only-of-type {\n",
       "        vertical-align: middle;\n",
       "    }\n",
       "\n",
       "    .dataframe tbody tr th {\n",
       "        vertical-align: top;\n",
       "    }\n",
       "\n",
       "    .dataframe thead th {\n",
       "        text-align: right;\n",
       "    }\n",
       "</style>\n",
       "<table border=\"1\" class=\"dataframe\">\n",
       "  <thead>\n",
       "    <tr style=\"text-align: right;\">\n",
       "      <th></th>\n",
       "      <th>date</th>\n",
       "      <th>oil_price</th>\n",
       "    </tr>\n",
       "  </thead>\n",
       "  <tbody>\n",
       "    <tr>\n",
       "      <th>0</th>\n",
       "      <td>2013-01-01</td>\n",
       "      <td>93.13</td>\n",
       "    </tr>\n",
       "    <tr>\n",
       "      <th>1</th>\n",
       "      <td>2013-01-02</td>\n",
       "      <td>93.14</td>\n",
       "    </tr>\n",
       "    <tr>\n",
       "      <th>2</th>\n",
       "      <td>2013-01-03</td>\n",
       "      <td>92.97</td>\n",
       "    </tr>\n",
       "    <tr>\n",
       "      <th>3</th>\n",
       "      <td>2013-01-04</td>\n",
       "      <td>93.12</td>\n",
       "    </tr>\n",
       "    <tr>\n",
       "      <th>4</th>\n",
       "      <td>2013-01-05</td>\n",
       "      <td>93.16</td>\n",
       "    </tr>\n",
       "    <tr>\n",
       "      <th>5</th>\n",
       "      <td>2013-01-06</td>\n",
       "      <td>93.18</td>\n",
       "    </tr>\n",
       "    <tr>\n",
       "      <th>6</th>\n",
       "      <td>2013-01-07</td>\n",
       "      <td>93.20</td>\n",
       "    </tr>\n",
       "    <tr>\n",
       "      <th>7</th>\n",
       "      <td>2013-01-08</td>\n",
       "      <td>93.21</td>\n",
       "    </tr>\n",
       "    <tr>\n",
       "      <th>8</th>\n",
       "      <td>2013-01-09</td>\n",
       "      <td>93.08</td>\n",
       "    </tr>\n",
       "    <tr>\n",
       "      <th>9</th>\n",
       "      <td>2013-01-10</td>\n",
       "      <td>93.81</td>\n",
       "    </tr>\n",
       "  </tbody>\n",
       "</table>\n",
       "</div>"
      ],
      "text/plain": [
       "         date  oil_price\n",
       "0  2013-01-01      93.13\n",
       "1  2013-01-02      93.14\n",
       "2  2013-01-03      92.97\n",
       "3  2013-01-04      93.12\n",
       "4  2013-01-05      93.16\n",
       "5  2013-01-06      93.18\n",
       "6  2013-01-07      93.20\n",
       "7  2013-01-08      93.21\n",
       "8  2013-01-09      93.08\n",
       "9  2013-01-10      93.81"
      ]
     },
     "execution_count": 37,
     "metadata": {},
     "output_type": "execute_result"
    }
   ],
   "source": [
    "%%time\n",
    "# Sync oil data with train and test dataset\n",
    "oil_data = sync_data_column(oil_data, train_dataset, test_data)\n",
    "print(f\"Missing values for oil data before: {oil_data.isna().sum().sum()}\")\n",
    "\n",
    "# Fill missing values\n",
    "oil_data[\"oil_price\"] = fill_missing_values(oil_data[\"dcoilwtico\"])\n",
    "oil_data.drop(columns=[\"dcoilwtico\"], axis=1, inplace=True)\n",
    "\n",
    "print(f\"Missing values for oil data after: {oil_data.isna().sum().sum()}\")\n",
    "\n",
    "oil_data.head(10)"
   ]
  },
  {
   "cell_type": "markdown",
   "metadata": {},
   "source": [
    "### Preprocess holidays data"
   ]
  },
  {
   "cell_type": "markdown",
   "metadata": {},
   "source": [
    "## **Preprocessing Main Datasets**"
   ]
  },
  {
   "cell_type": "code",
   "execution_count": 39,
   "metadata": {},
   "outputs": [],
   "source": [
    "def get_categorical_features(df, threshold=35):\n",
    "    categorical_columns = df.select_dtypes(exclude=[np.number]).columns\n",
    "    categorical_columns = [column for column in categorical_columns if threshold >= df[column].nunique()]\n",
    "    return categorical_columns"
   ]
  },
  {
   "cell_type": "code",
   "execution_count": 40,
   "metadata": {},
   "outputs": [],
   "source": [
    "def get_numerical_features(df, threshold=35):\n",
    "    numerical_columns = df.select_dtypes(include=[np.number]).columns\n",
    "    numerical_columns = [column for column in numerical_columns if df[column].nunique() >= threshold]\n",
    "    return numerical_columns"
   ]
  },
  {
   "cell_type": "code",
   "execution_count": 41,
   "metadata": {},
   "outputs": [
    {
     "name": "stdout",
     "output_type": "stream",
     "text": [
      "Missing values for train dataset: 0\n",
      "Missing values for test dataset: 0\n",
      "CPU times: total: 3.77 s\n",
      "Wall time: 6.57 s\n"
     ]
    },
    {
     "data": {
      "text/html": [
       "<div>\n",
       "<style scoped>\n",
       "    .dataframe tbody tr th:only-of-type {\n",
       "        vertical-align: middle;\n",
       "    }\n",
       "\n",
       "    .dataframe tbody tr th {\n",
       "        vertical-align: top;\n",
       "    }\n",
       "\n",
       "    .dataframe thead th {\n",
       "        text-align: right;\n",
       "    }\n",
       "</style>\n",
       "<table border=\"1\" class=\"dataframe\">\n",
       "  <thead>\n",
       "    <tr style=\"text-align: right;\">\n",
       "      <th></th>\n",
       "      <th>id</th>\n",
       "      <th>date</th>\n",
       "      <th>store_nbr</th>\n",
       "      <th>family</th>\n",
       "      <th>sales</th>\n",
       "      <th>onpromotion</th>\n",
       "      <th>oil_price</th>\n",
       "      <th>type_x</th>\n",
       "      <th>locale</th>\n",
       "      <th>locale_name</th>\n",
       "      <th>transferred</th>\n",
       "      <th>city</th>\n",
       "      <th>state</th>\n",
       "      <th>type_y</th>\n",
       "      <th>cluster</th>\n",
       "    </tr>\n",
       "  </thead>\n",
       "  <tbody>\n",
       "    <tr>\n",
       "      <th>0</th>\n",
       "      <td>0</td>\n",
       "      <td>2013-01-01</td>\n",
       "      <td>1</td>\n",
       "      <td>0</td>\n",
       "      <td>0.0</td>\n",
       "      <td>0</td>\n",
       "      <td>93.13</td>\n",
       "      <td>3</td>\n",
       "      <td>1</td>\n",
       "      <td>4</td>\n",
       "      <td>0</td>\n",
       "      <td>18</td>\n",
       "      <td>12</td>\n",
       "      <td>3</td>\n",
       "      <td>13</td>\n",
       "    </tr>\n",
       "    <tr>\n",
       "      <th>1</th>\n",
       "      <td>1</td>\n",
       "      <td>2013-01-01</td>\n",
       "      <td>1</td>\n",
       "      <td>1</td>\n",
       "      <td>0.0</td>\n",
       "      <td>0</td>\n",
       "      <td>93.13</td>\n",
       "      <td>3</td>\n",
       "      <td>1</td>\n",
       "      <td>4</td>\n",
       "      <td>0</td>\n",
       "      <td>18</td>\n",
       "      <td>12</td>\n",
       "      <td>3</td>\n",
       "      <td>13</td>\n",
       "    </tr>\n",
       "    <tr>\n",
       "      <th>2</th>\n",
       "      <td>2</td>\n",
       "      <td>2013-01-01</td>\n",
       "      <td>1</td>\n",
       "      <td>2</td>\n",
       "      <td>0.0</td>\n",
       "      <td>0</td>\n",
       "      <td>93.13</td>\n",
       "      <td>3</td>\n",
       "      <td>1</td>\n",
       "      <td>4</td>\n",
       "      <td>0</td>\n",
       "      <td>18</td>\n",
       "      <td>12</td>\n",
       "      <td>3</td>\n",
       "      <td>13</td>\n",
       "    </tr>\n",
       "    <tr>\n",
       "      <th>3</th>\n",
       "      <td>3</td>\n",
       "      <td>2013-01-01</td>\n",
       "      <td>1</td>\n",
       "      <td>3</td>\n",
       "      <td>0.0</td>\n",
       "      <td>0</td>\n",
       "      <td>93.13</td>\n",
       "      <td>3</td>\n",
       "      <td>1</td>\n",
       "      <td>4</td>\n",
       "      <td>0</td>\n",
       "      <td>18</td>\n",
       "      <td>12</td>\n",
       "      <td>3</td>\n",
       "      <td>13</td>\n",
       "    </tr>\n",
       "    <tr>\n",
       "      <th>4</th>\n",
       "      <td>4</td>\n",
       "      <td>2013-01-01</td>\n",
       "      <td>1</td>\n",
       "      <td>4</td>\n",
       "      <td>0.0</td>\n",
       "      <td>0</td>\n",
       "      <td>93.13</td>\n",
       "      <td>3</td>\n",
       "      <td>1</td>\n",
       "      <td>4</td>\n",
       "      <td>0</td>\n",
       "      <td>18</td>\n",
       "      <td>12</td>\n",
       "      <td>3</td>\n",
       "      <td>13</td>\n",
       "    </tr>\n",
       "    <tr>\n",
       "      <th>5</th>\n",
       "      <td>5</td>\n",
       "      <td>2013-01-01</td>\n",
       "      <td>1</td>\n",
       "      <td>5</td>\n",
       "      <td>0.0</td>\n",
       "      <td>0</td>\n",
       "      <td>93.13</td>\n",
       "      <td>3</td>\n",
       "      <td>1</td>\n",
       "      <td>4</td>\n",
       "      <td>0</td>\n",
       "      <td>18</td>\n",
       "      <td>12</td>\n",
       "      <td>3</td>\n",
       "      <td>13</td>\n",
       "    </tr>\n",
       "    <tr>\n",
       "      <th>6</th>\n",
       "      <td>6</td>\n",
       "      <td>2013-01-01</td>\n",
       "      <td>1</td>\n",
       "      <td>6</td>\n",
       "      <td>0.0</td>\n",
       "      <td>0</td>\n",
       "      <td>93.13</td>\n",
       "      <td>3</td>\n",
       "      <td>1</td>\n",
       "      <td>4</td>\n",
       "      <td>0</td>\n",
       "      <td>18</td>\n",
       "      <td>12</td>\n",
       "      <td>3</td>\n",
       "      <td>13</td>\n",
       "    </tr>\n",
       "    <tr>\n",
       "      <th>7</th>\n",
       "      <td>7</td>\n",
       "      <td>2013-01-01</td>\n",
       "      <td>1</td>\n",
       "      <td>7</td>\n",
       "      <td>0.0</td>\n",
       "      <td>0</td>\n",
       "      <td>93.13</td>\n",
       "      <td>3</td>\n",
       "      <td>1</td>\n",
       "      <td>4</td>\n",
       "      <td>0</td>\n",
       "      <td>18</td>\n",
       "      <td>12</td>\n",
       "      <td>3</td>\n",
       "      <td>13</td>\n",
       "    </tr>\n",
       "    <tr>\n",
       "      <th>8</th>\n",
       "      <td>8</td>\n",
       "      <td>2013-01-01</td>\n",
       "      <td>1</td>\n",
       "      <td>8</td>\n",
       "      <td>0.0</td>\n",
       "      <td>0</td>\n",
       "      <td>93.13</td>\n",
       "      <td>3</td>\n",
       "      <td>1</td>\n",
       "      <td>4</td>\n",
       "      <td>0</td>\n",
       "      <td>18</td>\n",
       "      <td>12</td>\n",
       "      <td>3</td>\n",
       "      <td>13</td>\n",
       "    </tr>\n",
       "    <tr>\n",
       "      <th>9</th>\n",
       "      <td>9</td>\n",
       "      <td>2013-01-01</td>\n",
       "      <td>1</td>\n",
       "      <td>9</td>\n",
       "      <td>0.0</td>\n",
       "      <td>0</td>\n",
       "      <td>93.13</td>\n",
       "      <td>3</td>\n",
       "      <td>1</td>\n",
       "      <td>4</td>\n",
       "      <td>0</td>\n",
       "      <td>18</td>\n",
       "      <td>12</td>\n",
       "      <td>3</td>\n",
       "      <td>13</td>\n",
       "    </tr>\n",
       "  </tbody>\n",
       "</table>\n",
       "</div>"
      ],
      "text/plain": [
       "   id       date  store_nbr  family  sales  onpromotion  oil_price  type_x  \\\n",
       "0   0 2013-01-01          1       0    0.0            0      93.13       3   \n",
       "1   1 2013-01-01          1       1    0.0            0      93.13       3   \n",
       "2   2 2013-01-01          1       2    0.0            0      93.13       3   \n",
       "3   3 2013-01-01          1       3    0.0            0      93.13       3   \n",
       "4   4 2013-01-01          1       4    0.0            0      93.13       3   \n",
       "5   5 2013-01-01          1       5    0.0            0      93.13       3   \n",
       "6   6 2013-01-01          1       6    0.0            0      93.13       3   \n",
       "7   7 2013-01-01          1       7    0.0            0      93.13       3   \n",
       "8   8 2013-01-01          1       8    0.0            0      93.13       3   \n",
       "9   9 2013-01-01          1       9    0.0            0      93.13       3   \n",
       "\n",
       "   locale  locale_name  transferred  city  state  type_y  cluster  \n",
       "0       1            4            0    18     12       3       13  \n",
       "1       1            4            0    18     12       3       13  \n",
       "2       1            4            0    18     12       3       13  \n",
       "3       1            4            0    18     12       3       13  \n",
       "4       1            4            0    18     12       3       13  \n",
       "5       1            4            0    18     12       3       13  \n",
       "6       1            4            0    18     12       3       13  \n",
       "7       1            4            0    18     12       3       13  \n",
       "8       1            4            0    18     12       3       13  \n",
       "9       1            4            0    18     12       3       13  "
      ]
     },
     "execution_count": 41,
     "metadata": {},
     "output_type": "execute_result"
    }
   ],
   "source": [
    "%%time\n",
    "train_dataset['date'] = pd.to_datetime(train_dataset['date']).astype('datetime64[ns]')\n",
    "test_data['date'] = pd.to_datetime(test_data['date']).astype('datetime64[ns]')\n",
    "oil_data['date'] = pd.to_datetime(oil_data['date']).astype('datetime64[ns]')\n",
    "holiday_events['date'] = pd.to_datetime(holiday_events['date']).astype('datetime64[ns]')\n",
    "\n",
    "train_dataset = train_dataset.merge(oil_data, on=\"date\", how=\"left\")\n",
    "train_dataset = train_dataset.merge(holiday_events, on=\"date\", how=\"left\")\n",
    "train_dataset = train_dataset.merge(stores_csv, on=\"store_nbr\", how=\"left\")\n",
    "\n",
    "test_data = test_data.merge(oil_data, on=\"date\", how=\"left\")\n",
    "test_data = test_data.merge(holiday_events, on=\"date\", how=\"left\")\n",
    "test_data = test_data.merge(stores_csv, on=\"store_nbr\", how=\"left\")\n",
    "\n",
    "\n",
    "# Label Encode Categorical Features\n",
    "categorical_features = get_categorical_features(train_dataset)\n",
    "\n",
    "encoder = LabelEncoder()\n",
    "train_dataset[categorical_features] = train_dataset[categorical_features].apply(encoder.fit_transform)\n",
    "test_data[categorical_features] = test_data[categorical_features].apply(encoder.fit_transform)\n",
    "\n",
    "print(f\"Missing values for train dataset: {train_dataset.isna().sum().sum()}\")\n",
    "print(f\"Missing values for test dataset: {test_data.isna().sum().sum()}\")\n",
    "train_dataset.head(10)\n"
   ]
  },
  {
   "cell_type": "markdown",
   "metadata": {},
   "source": [
    "### Additional Note: Wages in the public sector are paid every two weeks on the 15th and on the last day of the month. Supermarket sales could be affected by this."
   ]
  },
  {
   "cell_type": "code",
   "execution_count": 42,
   "metadata": {},
   "outputs": [
    {
     "data": {
      "text/plain": [
       "0          False\n",
       "1          False\n",
       "2          False\n",
       "3          False\n",
       "4          False\n",
       "           ...  \n",
       "3054343     True\n",
       "3054344     True\n",
       "3054345     True\n",
       "3054346     True\n",
       "3054347     True\n",
       "Name: WageDay, Length: 3054348, dtype: bool"
      ]
     },
     "execution_count": 42,
     "metadata": {},
     "output_type": "execute_result"
    }
   ],
   "source": [
    "def is_last_day_of_month(date):\n",
    "    next_day = date + pd.Timedelta(days=1)\n",
    "    return next_day.month != date.month\n",
    "\n",
    "train_df = train_dataset.copy()\n",
    "test_df = train_dataset.copy()\n",
    "\n",
    "# Add new columns for wage payment indicators\n",
    "train_df['Is_15th'] = train_df['date'].dt.day == 15\n",
    "train_df['Is_Last_Day'] = train_df['date'].apply(is_last_day_of_month)\n",
    "\n",
    "test_df['Is_15th'] = train_df['date'].dt.day == 15\n",
    "test_df['Is_Last_Day'] = train_df['date'].apply(is_last_day_of_month)\n",
    "\n",
    "# Concatenate into one column \n",
    "train_dataset[\"WageDay\"] = train_df['Is_15th'] | train_df['Is_Last_Day']\n",
    "test_data[\"WageDay\"] = test_df['Is_15th'] | test_df['Is_Last_Day']\n",
    "\n",
    "del train_df\n",
    "del test_df\n",
    "\n",
    "train_dataset[\"WageDay\"]"
   ]
  },
  {
   "cell_type": "markdown",
   "metadata": {},
   "source": [
    "## Deal with skewness"
   ]
  },
  {
   "cell_type": "code",
   "execution_count": 43,
   "metadata": {},
   "outputs": [
    {
     "name": "stdout",
     "output_type": "stream",
     "text": [
      "Total Skewed Features: 5\n"
     ]
    },
    {
     "data": {
      "image/png": "[encoded data removed]",
      "text/plain": [
       "<Figure size 2000x2500 with 10 Axes>"
      ]
     },
     "metadata": {},
     "output_type": "display_data"
    }
   ],
   "source": [
    "from sklearn.preprocessing import StandardScaler\n",
    "def skewness_analyze(df, skew_threshold=0.5):\n",
    "    \"\"\"\n",
    "    Takes a dataframe and returns a list of columns with skewness above the threshold\n",
    "    \"\"\"\n",
    "\n",
    "    numerical_columns = df.select_dtypes(include=[np.number]).columns \n",
    "    # Drops binary columns to get accurate skewness processing\n",
    "    numerical_columns = [col for col in numerical_columns if len(df[col].unique()) > 2 and sorted(df[col].unique()) != [0, 1]]\n",
    "    skewed_features = []\n",
    "\n",
    "    for column in numerical_columns:\n",
    "        if abs(df[column].skew()) > skew_threshold:\n",
    "            skewed_features.append(column)\n",
    "    print(f\"Total Skewed Features: {len(skewed_features)}\")\n",
    "    return skewed_features\n",
    "\n",
    "def compare_skewed_preprocessing(df, skewed_columns, preprocessed: bool = False):\n",
    "    \"\"\"\n",
    "    Takes a dataframe and list of columns with skewness above the threshold\n",
    "    and plots histogram of non-processed skewed features.\n",
    "\n",
    "    If \"preprocessed\" parameter is True, \\\n",
    "    it will plot histogram plot both skewed and non-skewed features.\n",
    "    \"\"\"\n",
    "    n_features = len(skewed_columns)\n",
    "    fig, axs = plt.subplots(n_features, 2, figsize=(20, n_features * 5))\n",
    "\n",
    "    # Loop through each column and plot histogram of non-processed skewed features\n",
    "    for i, col in enumerate(train_dataset[skewed_columns]):\n",
    "        axs[i, 0].hist(train_dataset[col], bins=30, edgecolor='k')\n",
    "        axs[i, 0].set_title(f'Histogram of {col}')\n",
    "        axs[i, 0].set_xlabel('Value')\n",
    "        axs[i, 0].set_ylabel('Frequency')\n",
    "\n",
    "        if preprocessed: # Plot fixed skewed features\n",
    "            _, transformed_col, _ = fix_skewness(df, skewed_columns)\n",
    "\n",
    "            # Plot preprocessed feature\n",
    "            axs[i, 1].hist(transformed_col, bins=30, edgecolor='k')\n",
    "            axs[i, 1].set_title(f'Log-Transformed Histogram of {col}')\n",
    "            axs[i, 1].set_xlabel('Value')\n",
    "            axs[i, 1].set_ylabel('Frequency')\n",
    "        \n",
    "\n",
    "    plt.tight_layout()\n",
    "    plt.show()\n",
    "\n",
    "def fix_skewness(df, skewed_features):\n",
    "    # Get non_skewed features\n",
    "    non_skewed_features = set(df.columns) - set(skewed_features)\n",
    "    scaler = StandardScaler()\n",
    "\n",
    "\n",
    "    # Fix non-skewed features\n",
    "    for col in non_skewed_features:\n",
    "        non_skewed_features = scaler.fit_transform(df[col].values.reshape(-1, 1))\n",
    "\n",
    "    # Fix skewed features\n",
    "    for col in skewed_features:\n",
    "        negative_indices = df[col] < 0\n",
    "        transformed_col = np.log1p(np.abs(df[col]))\n",
    "        skewed_features = np.where(negative_indices, -transformed_col, transformed_col)\n",
    "\n",
    "    return df, skewed_features, non_skewed_features\n",
    "\n",
    "skewed_columns = skewness_analyze(train_dataset)\n",
    "compare_skewed_preprocessing(train_dataset, skewed_columns, preprocessed=True)"
   ]
  },
  {
   "cell_type": "markdown",
   "metadata": {},
   "source": [
    "## Finish preprocessing"
   ]
  },
  {
   "cell_type": "code",
   "execution_count": 44,
   "metadata": {
    "vscode": {
     "languageId": "ruby"
    }
   },
   "outputs": [],
   "source": [
    "def extract_date(df, date_col):\n",
    "    df[f'year {date_col}']           = df[date_col].dt.year.astype(int)\n",
    "    df[f'month {date_col}']          = df[date_col].dt.month.astype(int)\n",
    "    df[f'day {date_col}']            = df[date_col].dt.day.astype(int)\n",
    "    df[f'day of week {date_col}']    = df[date_col].dt.dayofweek.astype(int)\n",
    "    df[f'week of year {date_col}']   = df[date_col].dt.isocalendar().week.astype(int)\n",
    "    df[f'quarter {date_col}']        = df[date_col].dt.quarter.astype(int)\n",
    "    df[f'is weekend {date_col}']     = df[f'day of week {date_col}'].isin([5, 6]).astype(int)\n",
    "    df[f'is leap year {date_col}']   = df[date_col].dt.is_leap_year.astype(int)\n",
    "    df[f\"is_month_end {date_col}\"]   = df[date_col].dt.is_month_end.astype(int)\n",
    "    df[f\"is_month_start {date_col}\"] = df[date_col].dt.is_month_start.astype(int)"
   ]
  },
  {
   "cell_type": "code",
   "execution_count": 45,
   "metadata": {
    "vscode": {
     "languageId": "ruby"
    }
   },
   "outputs": [
    {
     "name": "stdout",
     "output_type": "stream",
     "text": [
      "[dtype('int64'), dtype('<M8[ns]'), dtype('bool'), dtype('int32'), dtype('float64')]\n"
     ]
    },
    {
     "name": "stderr",
     "output_type": "stream",
     "text": [
      "C:\\Users\\chupr\\AppData\\Local\\Temp\\ipykernel_29108\\1507600715.py:11: FutureWarning: Styler.applymap has been deprecated. Use Styler.map instead.\n",
      "  df_dtypes = df_dtypes.style.applymap(lambda x:'text-align: left', subset=['columns'])\n"
     ]
    },
    {
     "data": {
      "text/html": [
       "<style type=\"text/css\">\n",
       "#T_00bdd_row0_col2, #T_00bdd_row1_col2, #T_00bdd_row2_col2, #T_00bdd_row3_col2, #T_00bdd_row4_col2 {\n",
       "  text-align: left;\n",
       "}\n",
       "</style>\n",
       "<table id=\"T_00bdd\">\n",
       "  <thead>\n",
       "    <tr>\n",
       "      <th class=\"blank level0\" >&nbsp;</th>\n",
       "      <th id=\"T_00bdd_level0_col0\" class=\"col_heading level0 col0\" >dtype</th>\n",
       "      <th id=\"T_00bdd_level0_col1\" class=\"col_heading level0 col1\" ># columns</th>\n",
       "      <th id=\"T_00bdd_level0_col2\" class=\"col_heading level0 col2\" >columns</th>\n",
       "    </tr>\n",
       "  </thead>\n",
       "  <tbody>\n",
       "    <tr>\n",
       "      <th id=\"T_00bdd_level0_row0\" class=\"row_heading level0 row0\" >0</th>\n",
       "      <td id=\"T_00bdd_row0_col0\" class=\"data row0 col0\" >int64</td>\n",
       "      <td id=\"T_00bdd_row0_col1\" class=\"data row0 col1\" >5</td>\n",
       "      <td id=\"T_00bdd_row0_col2\" class=\"data row0 col2\" >['id', 'store_nbr', 'onpromotion', 'transferred', 'cluster']</td>\n",
       "    </tr>\n",
       "    <tr>\n",
       "      <th id=\"T_00bdd_level0_row1\" class=\"row_heading level0 row1\" >1</th>\n",
       "      <td id=\"T_00bdd_row1_col0\" class=\"data row1 col0\" >datetime64[ns]</td>\n",
       "      <td id=\"T_00bdd_row1_col1\" class=\"data row1 col1\" >1</td>\n",
       "      <td id=\"T_00bdd_row1_col2\" class=\"data row1 col2\" >['date']</td>\n",
       "    </tr>\n",
       "    <tr>\n",
       "      <th id=\"T_00bdd_level0_row2\" class=\"row_heading level0 row2\" >2</th>\n",
       "      <td id=\"T_00bdd_row2_col0\" class=\"data row2 col0\" >bool</td>\n",
       "      <td id=\"T_00bdd_row2_col1\" class=\"data row2 col1\" >1</td>\n",
       "      <td id=\"T_00bdd_row2_col2\" class=\"data row2 col2\" >['WageDay']</td>\n",
       "    </tr>\n",
       "    <tr>\n",
       "      <th id=\"T_00bdd_level0_row3\" class=\"row_heading level0 row3\" >3</th>\n",
       "      <td id=\"T_00bdd_row3_col0\" class=\"data row3 col0\" >int32</td>\n",
       "      <td id=\"T_00bdd_row3_col1\" class=\"data row3 col1\" >7</td>\n",
       "      <td id=\"T_00bdd_row3_col2\" class=\"data row3 col2\" >['family', 'type_x', 'locale', 'locale_name', 'city', 'state', 'type_y']</td>\n",
       "    </tr>\n",
       "    <tr>\n",
       "      <th id=\"T_00bdd_level0_row4\" class=\"row_heading level0 row4\" >4</th>\n",
       "      <td id=\"T_00bdd_row4_col0\" class=\"data row4 col0\" >float64</td>\n",
       "      <td id=\"T_00bdd_row4_col1\" class=\"data row4 col1\" >2</td>\n",
       "      <td id=\"T_00bdd_row4_col2\" class=\"data row4 col2\" >['sales', 'oil_price']</td>\n",
       "    </tr>\n",
       "  </tbody>\n",
       "</table>\n"
      ],
      "text/plain": [
       "<pandas.io.formats.style.Styler at 0x29a84e43dc0>"
      ]
     },
     "execution_count": 45,
     "metadata": {},
     "output_type": "execute_result"
    }
   ],
   "source": [
    "def df_dtypes(df):\n",
    "      pd.set_option('display.max_colwidth', None)\n",
    "  \n",
    "      df_dtypes = df.columns.groupby(df.dtypes)\n",
    "      print(list(df_dtypes.keys()))\n",
    "      df_dtypes = pd.DataFrame({\n",
    "          'dtype':     list(df_dtypes.keys()),\n",
    "          '# columns': [len(df_dtypes[key])  for key in df_dtypes.keys()],\n",
    "          'columns':   [list(df_dtypes[key]) for key in df_dtypes.keys()],\n",
    "      })\n",
    "      df_dtypes = df_dtypes.style.applymap(lambda x:'text-align: left', subset=['columns'])\n",
    "      return df_dtypes\n",
    "\n",
    "df_dtypes(train_dataset)"
   ]
  },
  {
   "cell_type": "code",
   "execution_count": 46,
   "metadata": {
    "vscode": {
     "languageId": "ruby"
    }
   },
   "outputs": [],
   "source": [
    "from sklearn.preprocessing import OneHotEncoder\n",
    "\n",
    "def one_hot_encoding(df):\n",
    "    numerical_features = get_numerical_features(df)\n",
    "    print(f'Categorical features: {categorical_features}')\n",
    "\n",
    "    encoder = OneHotEncoder(drop='first', sparse_output=False)\n",
    "    one_hot = encoder.fit_transform(df[categorical_features])\n",
    "    hot_df = pd.DataFrame(one_hot, columns=encoder.get_feature_names_out(categorical_features), index=df.index)\n",
    "    print(hot_df.shape)\n",
    "    df = df.drop(columns=categorical_features)\n",
    "    df = pd.concat([df, hot_df], axis=1)\n",
    "    return df\n"
   ]
  },
  {
   "cell_type": "code",
   "execution_count": 47,
   "metadata": {},
   "outputs": [
    {
     "name": "stdout",
     "output_type": "stream",
     "text": [
      "Categorical features: ['family', 'type_x', 'locale', 'locale_name', 'transferred', 'city', 'state', 'type_y']\n",
      "(3054348, 103)\n",
      "Categorical features: ['family', 'type_x', 'locale', 'locale_name', 'transferred', 'city', 'state', 'type_y']\n",
      "(28512, 73)\n",
      "<class 'pandas.core.frame.DataFrame'>\n",
      "RangeIndex: 3054348 entries, 0 to 3054347\n",
      "Columns: 120 entries, date to type_y_4\n",
      "dtypes: datetime64[ns](1), float64(105), int32(11), int64(3)\n",
      "memory usage: 2.6 GB\n"
     ]
    }
   ],
   "source": [
    "# Finish preprocessing\n",
    "train_dataset.drop(columns=['id'], inplace=True)\n",
    "test_data.drop(columns=['id'], inplace=True) \n",
    "\n",
    "extract_date(train_dataset, 'date') # type: ignore\n",
    "extract_date(test_data, 'date') # type: ignore\n",
    "\n",
    "# Replace true and false for 1 and 0 in transferred column\n",
    "train_dataset['transferred'] = train_dataset['transferred'].astype(int)\n",
    "train_dataset['WageDay'] = train_dataset['WageDay'].astype(int)\n",
    "test_data['transferred'] = test_data['transferred'].astype(int)\n",
    "test_data['WageDay'] = test_data['WageDay'].astype(int)\n",
    "\n",
    "train_dataset = one_hot_encoding(train_dataset) # type: ignore\n",
    "test_data = one_hot_encoding(test_data) # type: ignore\n",
    "\n",
    "train_dataset.info()"
   ]
  },
  {
   "cell_type": "code",
   "execution_count": null,
   "metadata": {},
   "outputs": [
    {
     "name": "stdout",
     "output_type": "stream",
     "text": [
      "[dtype('<M8[ns]'), dtype('int32'), dtype('int64'), dtype('float64')]\n"
     ]
    },
    {
     "name": "stderr",
     "output_type": "stream",
     "text": [
      "C:\\Users\\chupr\\AppData\\Local\\Temp\\ipykernel_29108\\1507600715.py:11: FutureWarning: Styler.applymap has been deprecated. Use Styler.map instead.\n",
      "  df_dtypes = df_dtypes.style.applymap(lambda x:'text-align: left', subset=['columns'])\n"
     ]
    },
    {
     "data": {
      "text/html": [
       "<style type=\"text/css\">\n",
       "#T_93bf4_row0_col2, #T_93bf4_row1_col2, #T_93bf4_row2_col2, #T_93bf4_row3_col2 {\n",
       "  text-align: left;\n",
       "}\n",
       "</style>\n",
       "<table id=\"T_93bf4\">\n",
       "  <thead>\n",
       "    <tr>\n",
       "      <th class=\"blank level0\" >&nbsp;</th>\n",
       "      <th id=\"T_93bf4_level0_col0\" class=\"col_heading level0 col0\" >dtype</th>\n",
       "      <th id=\"T_93bf4_level0_col1\" class=\"col_heading level0 col1\" ># columns</th>\n",
       "      <th id=\"T_93bf4_level0_col2\" class=\"col_heading level0 col2\" >columns</th>\n",
       "    </tr>\n",
       "  </thead>\n",
       "  <tbody>\n",
       "    <tr>\n",
       "      <th id=\"T_93bf4_level0_row0\" class=\"row_heading level0 row0\" >0</th>\n",
       "      <td id=\"T_93bf4_row0_col0\" class=\"data row0 col0\" >datetime64[ns]</td>\n",
       "      <td id=\"T_93bf4_row0_col1\" class=\"data row0 col1\" >1</td>\n",
       "      <td id=\"T_93bf4_row0_col2\" class=\"data row0 col2\" >['date']</td>\n",
       "    </tr>\n",
       "    <tr>\n",
       "      <th id=\"T_93bf4_level0_row1\" class=\"row_heading level0 row1\" >1</th>\n",
       "      <td id=\"T_93bf4_row1_col0\" class=\"data row1 col0\" >int32</td>\n",
       "      <td id=\"T_93bf4_row1_col1\" class=\"data row1 col1\" >11</td>\n",
       "      <td id=\"T_93bf4_row1_col2\" class=\"data row1 col2\" >['WageDay', 'year date', 'month date', 'day date', 'day of week date', 'week of year date', 'quarter date', 'is weekend date', 'is leap year date', 'is_month_end date', 'is_month_start date']</td>\n",
       "    </tr>\n",
       "    <tr>\n",
       "      <th id=\"T_93bf4_level0_row2\" class=\"row_heading level0 row2\" >2</th>\n",
       "      <td id=\"T_93bf4_row2_col0\" class=\"data row2 col0\" >int64</td>\n",
       "      <td id=\"T_93bf4_row2_col1\" class=\"data row2 col1\" >3</td>\n",
       "      <td id=\"T_93bf4_row2_col2\" class=\"data row2 col2\" >['store_nbr', 'onpromotion', 'cluster']</td>\n",
       "    </tr>\n",
       "    <tr>\n",
       "      <th id=\"T_93bf4_level0_row3\" class=\"row_heading level0 row3\" >3</th>\n",
       "      <td id=\"T_93bf4_row3_col0\" class=\"data row3 col0\" >float64</td>\n",
       "      <td id=\"T_93bf4_row3_col1\" class=\"data row3 col1\" >105</td>\n",
       "      <td id=\"T_93bf4_row3_col2\" class=\"data row3 col2\" >['sales', 'oil_price', 'family_1', 'family_2', 'family_3', 'family_4', 'family_5', 'family_6', 'family_7', 'family_8', 'family_9', 'family_10', 'family_11', 'family_12', 'family_13', 'family_14', 'family_15', 'family_16', 'family_17', 'family_18', 'family_19', 'family_20', 'family_21', 'family_22', 'family_23', 'family_24', 'family_25', 'family_26', 'family_27', 'family_28', 'family_29', 'family_30', 'family_31', 'family_32', 'type_x_1', 'type_x_2', 'type_x_3', 'type_x_4', 'type_x_5', 'locale_1', 'locale_2', 'locale_name_1', 'locale_name_2', 'locale_name_3', 'locale_name_4', 'locale_name_5', 'locale_name_6', 'locale_name_7', 'locale_name_8', 'locale_name_9', 'locale_name_10', 'locale_name_11', 'locale_name_12', 'locale_name_13', 'locale_name_14', 'locale_name_15', 'locale_name_16', 'locale_name_17', 'locale_name_18', 'locale_name_19', 'locale_name_20', 'locale_name_21', 'locale_name_22', 'locale_name_23', 'transferred_1', 'city_1', 'city_2', 'city_3', 'city_4', 'city_5', 'city_6', 'city_7', 'city_8', 'city_9', 'city_10', 'city_11', 'city_12', 'city_13', 'city_14', 'city_15', 'city_16', 'city_17', 'city_18', 'city_19', 'city_20', 'city_21', 'state_1', 'state_2', 'state_3', 'state_4', 'state_5', 'state_6', 'state_7', 'state_8', 'state_9', 'state_10', 'state_11', 'state_12', 'state_13', 'state_14', 'state_15', 'type_y_1', 'type_y_2', 'type_y_3', 'type_y_4']</td>\n",
       "    </tr>\n",
       "  </tbody>\n",
       "</table>\n"
      ],
      "text/plain": [
       "<pandas.io.formats.style.Styler at 0x29a80522440>"
      ]
     },
     "execution_count": 28,
     "metadata": {},
     "output_type": "execute_result"
    }
   ],
   "source": [
    "df_dtypes(train_dataset)"
   ]
  },
  {
   "cell_type": "markdown",
   "metadata": {},
   "source": [
    "## Column alighnment with train and test sets "
   ]
  },
  {
   "cell_type": "code",
   "execution_count": null,
   "metadata": {},
   "outputs": [
    {
     "name": "stdout",
     "output_type": "stream",
     "text": [
      "Number of columns in train dataset: 120\n",
      "Number of columns in test dataset: 90\n"
     ]
    }
   ],
   "source": [
    "print(f\"Number of columns in train dataset: {len(train_dataset.columns)}\")\n",
    "print(f\"Number of columns in test dataset: {len(test_data.columns)}\")"
   ]
  },
  {
   "cell_type": "code",
   "execution_count": null,
   "metadata": {},
   "outputs": [
    {
     "name": "stdout",
     "output_type": "stream",
     "text": [
      "Number of columns in train dataset: 120\n",
      "Number of columns in test dataset: 120\n"
     ]
    }
   ],
   "source": [
    "def align_columns(train_dataset, test_data, fix_columns=False): # Fix columns parameter will set columns in the same order as in train dataset\n",
    "    train_align, test_align = train_dataset.align(test_data, join='outer', axis=1)\n",
    "    test_align = test_align.fillna(0)\n",
    "\n",
    "    if fix_columns:\n",
    "        train_align = train_align[train_dataset.columns]\n",
    "        test_align = test_align[train_dataset.columns]\n",
    "\n",
    "    return train_align, test_align\n",
    "\n",
    "train_dataset, test_data = align_columns(train_dataset, test_data, fix_columns=True)\n",
    "print(f\"Number of columns in train dataset: {len(train_dataset.columns)}\")\n",
    "print(f\"Number of columns in test dataset: {len(test_data.columns)}\")"
   ]
  },
  {
   "cell_type": "code",
   "execution_count": null,
   "metadata": {},
   "outputs": [
    {
     "data": {
      "text/html": [
       "<div>\n",
       "<style scoped>\n",
       "    .dataframe tbody tr th:only-of-type {\n",
       "        vertical-align: middle;\n",
       "    }\n",
       "\n",
       "    .dataframe tbody tr th {\n",
       "        vertical-align: top;\n",
       "    }\n",
       "\n",
       "    .dataframe thead th {\n",
       "        text-align: right;\n",
       "    }\n",
       "</style>\n",
       "<table border=\"1\" class=\"dataframe\">\n",
       "  <thead>\n",
       "    <tr style=\"text-align: right;\">\n",
       "      <th></th>\n",
       "      <th>date</th>\n",
       "      <th>store_nbr</th>\n",
       "      <th>sales</th>\n",
       "      <th>onpromotion</th>\n",
       "      <th>oil_price</th>\n",
       "      <th>cluster</th>\n",
       "      <th>WageDay</th>\n",
       "      <th>year date</th>\n",
       "      <th>month date</th>\n",
       "      <th>day date</th>\n",
       "      <th>...</th>\n",
       "      <th>state_10</th>\n",
       "      <th>state_11</th>\n",
       "      <th>state_12</th>\n",
       "      <th>state_13</th>\n",
       "      <th>state_14</th>\n",
       "      <th>state_15</th>\n",
       "      <th>type_y_1</th>\n",
       "      <th>type_y_2</th>\n",
       "      <th>type_y_3</th>\n",
       "      <th>type_y_4</th>\n",
       "    </tr>\n",
       "  </thead>\n",
       "  <tbody>\n",
       "    <tr>\n",
       "      <th>0</th>\n",
       "      <td>2013-01-01</td>\n",
       "      <td>1</td>\n",
       "      <td>0.000</td>\n",
       "      <td>0</td>\n",
       "      <td>93.13</td>\n",
       "      <td>13</td>\n",
       "      <td>0</td>\n",
       "      <td>2013</td>\n",
       "      <td>1</td>\n",
       "      <td>1</td>\n",
       "      <td>...</td>\n",
       "      <td>0.0</td>\n",
       "      <td>0.0</td>\n",
       "      <td>1.0</td>\n",
       "      <td>0.0</td>\n",
       "      <td>0.0</td>\n",
       "      <td>0.0</td>\n",
       "      <td>0.0</td>\n",
       "      <td>0.0</td>\n",
       "      <td>1.0</td>\n",
       "      <td>0.0</td>\n",
       "    </tr>\n",
       "    <tr>\n",
       "      <th>1</th>\n",
       "      <td>2013-01-01</td>\n",
       "      <td>1</td>\n",
       "      <td>0.000</td>\n",
       "      <td>0</td>\n",
       "      <td>93.13</td>\n",
       "      <td>13</td>\n",
       "      <td>0</td>\n",
       "      <td>2013</td>\n",
       "      <td>1</td>\n",
       "      <td>1</td>\n",
       "      <td>...</td>\n",
       "      <td>0.0</td>\n",
       "      <td>0.0</td>\n",
       "      <td>1.0</td>\n",
       "      <td>0.0</td>\n",
       "      <td>0.0</td>\n",
       "      <td>0.0</td>\n",
       "      <td>0.0</td>\n",
       "      <td>0.0</td>\n",
       "      <td>1.0</td>\n",
       "      <td>0.0</td>\n",
       "    </tr>\n",
       "    <tr>\n",
       "      <th>2</th>\n",
       "      <td>2013-01-01</td>\n",
       "      <td>1</td>\n",
       "      <td>0.000</td>\n",
       "      <td>0</td>\n",
       "      <td>93.13</td>\n",
       "      <td>13</td>\n",
       "      <td>0</td>\n",
       "      <td>2013</td>\n",
       "      <td>1</td>\n",
       "      <td>1</td>\n",
       "      <td>...</td>\n",
       "      <td>0.0</td>\n",
       "      <td>0.0</td>\n",
       "      <td>1.0</td>\n",
       "      <td>0.0</td>\n",
       "      <td>0.0</td>\n",
       "      <td>0.0</td>\n",
       "      <td>0.0</td>\n",
       "      <td>0.0</td>\n",
       "      <td>1.0</td>\n",
       "      <td>0.0</td>\n",
       "    </tr>\n",
       "    <tr>\n",
       "      <th>3</th>\n",
       "      <td>2013-01-01</td>\n",
       "      <td>1</td>\n",
       "      <td>0.000</td>\n",
       "      <td>0</td>\n",
       "      <td>93.13</td>\n",
       "      <td>13</td>\n",
       "      <td>0</td>\n",
       "      <td>2013</td>\n",
       "      <td>1</td>\n",
       "      <td>1</td>\n",
       "      <td>...</td>\n",
       "      <td>0.0</td>\n",
       "      <td>0.0</td>\n",
       "      <td>1.0</td>\n",
       "      <td>0.0</td>\n",
       "      <td>0.0</td>\n",
       "      <td>0.0</td>\n",
       "      <td>0.0</td>\n",
       "      <td>0.0</td>\n",
       "      <td>1.0</td>\n",
       "      <td>0.0</td>\n",
       "    </tr>\n",
       "    <tr>\n",
       "      <th>4</th>\n",
       "      <td>2013-01-01</td>\n",
       "      <td>1</td>\n",
       "      <td>0.000</td>\n",
       "      <td>0</td>\n",
       "      <td>93.13</td>\n",
       "      <td>13</td>\n",
       "      <td>0</td>\n",
       "      <td>2013</td>\n",
       "      <td>1</td>\n",
       "      <td>1</td>\n",
       "      <td>...</td>\n",
       "      <td>0.0</td>\n",
       "      <td>0.0</td>\n",
       "      <td>1.0</td>\n",
       "      <td>0.0</td>\n",
       "      <td>0.0</td>\n",
       "      <td>0.0</td>\n",
       "      <td>0.0</td>\n",
       "      <td>0.0</td>\n",
       "      <td>1.0</td>\n",
       "      <td>0.0</td>\n",
       "    </tr>\n",
       "    <tr>\n",
       "      <th>...</th>\n",
       "      <td>...</td>\n",
       "      <td>...</td>\n",
       "      <td>...</td>\n",
       "      <td>...</td>\n",
       "      <td>...</td>\n",
       "      <td>...</td>\n",
       "      <td>...</td>\n",
       "      <td>...</td>\n",
       "      <td>...</td>\n",
       "      <td>...</td>\n",
       "      <td>...</td>\n",
       "      <td>...</td>\n",
       "      <td>...</td>\n",
       "      <td>...</td>\n",
       "      <td>...</td>\n",
       "      <td>...</td>\n",
       "      <td>...</td>\n",
       "      <td>...</td>\n",
       "      <td>...</td>\n",
       "      <td>...</td>\n",
       "      <td>...</td>\n",
       "    </tr>\n",
       "    <tr>\n",
       "      <th>3054343</th>\n",
       "      <td>2017-08-15</td>\n",
       "      <td>9</td>\n",
       "      <td>438.133</td>\n",
       "      <td>0</td>\n",
       "      <td>47.57</td>\n",
       "      <td>6</td>\n",
       "      <td>1</td>\n",
       "      <td>2017</td>\n",
       "      <td>8</td>\n",
       "      <td>15</td>\n",
       "      <td>...</td>\n",
       "      <td>0.0</td>\n",
       "      <td>0.0</td>\n",
       "      <td>1.0</td>\n",
       "      <td>0.0</td>\n",
       "      <td>0.0</td>\n",
       "      <td>0.0</td>\n",
       "      <td>1.0</td>\n",
       "      <td>0.0</td>\n",
       "      <td>0.0</td>\n",
       "      <td>0.0</td>\n",
       "    </tr>\n",
       "    <tr>\n",
       "      <th>3054344</th>\n",
       "      <td>2017-08-15</td>\n",
       "      <td>9</td>\n",
       "      <td>154.553</td>\n",
       "      <td>1</td>\n",
       "      <td>47.57</td>\n",
       "      <td>6</td>\n",
       "      <td>1</td>\n",
       "      <td>2017</td>\n",
       "      <td>8</td>\n",
       "      <td>15</td>\n",
       "      <td>...</td>\n",
       "      <td>0.0</td>\n",
       "      <td>0.0</td>\n",
       "      <td>1.0</td>\n",
       "      <td>0.0</td>\n",
       "      <td>0.0</td>\n",
       "      <td>0.0</td>\n",
       "      <td>1.0</td>\n",
       "      <td>0.0</td>\n",
       "      <td>0.0</td>\n",
       "      <td>0.0</td>\n",
       "    </tr>\n",
       "    <tr>\n",
       "      <th>3054345</th>\n",
       "      <td>2017-08-15</td>\n",
       "      <td>9</td>\n",
       "      <td>2419.729</td>\n",
       "      <td>148</td>\n",
       "      <td>47.57</td>\n",
       "      <td>6</td>\n",
       "      <td>1</td>\n",
       "      <td>2017</td>\n",
       "      <td>8</td>\n",
       "      <td>15</td>\n",
       "      <td>...</td>\n",
       "      <td>0.0</td>\n",
       "      <td>0.0</td>\n",
       "      <td>1.0</td>\n",
       "      <td>0.0</td>\n",
       "      <td>0.0</td>\n",
       "      <td>0.0</td>\n",
       "      <td>1.0</td>\n",
       "      <td>0.0</td>\n",
       "      <td>0.0</td>\n",
       "      <td>0.0</td>\n",
       "    </tr>\n",
       "    <tr>\n",
       "      <th>3054346</th>\n",
       "      <td>2017-08-15</td>\n",
       "      <td>9</td>\n",
       "      <td>121.000</td>\n",
       "      <td>8</td>\n",
       "      <td>47.57</td>\n",
       "      <td>6</td>\n",
       "      <td>1</td>\n",
       "      <td>2017</td>\n",
       "      <td>8</td>\n",
       "      <td>15</td>\n",
       "      <td>...</td>\n",
       "      <td>0.0</td>\n",
       "      <td>0.0</td>\n",
       "      <td>1.0</td>\n",
       "      <td>0.0</td>\n",
       "      <td>0.0</td>\n",
       "      <td>0.0</td>\n",
       "      <td>1.0</td>\n",
       "      <td>0.0</td>\n",
       "      <td>0.0</td>\n",
       "      <td>0.0</td>\n",
       "    </tr>\n",
       "    <tr>\n",
       "      <th>3054347</th>\n",
       "      <td>2017-08-15</td>\n",
       "      <td>9</td>\n",
       "      <td>16.000</td>\n",
       "      <td>0</td>\n",
       "      <td>47.57</td>\n",
       "      <td>6</td>\n",
       "      <td>1</td>\n",
       "      <td>2017</td>\n",
       "      <td>8</td>\n",
       "      <td>15</td>\n",
       "      <td>...</td>\n",
       "      <td>0.0</td>\n",
       "      <td>0.0</td>\n",
       "      <td>1.0</td>\n",
       "      <td>0.0</td>\n",
       "      <td>0.0</td>\n",
       "      <td>0.0</td>\n",
       "      <td>1.0</td>\n",
       "      <td>0.0</td>\n",
       "      <td>0.0</td>\n",
       "      <td>0.0</td>\n",
       "    </tr>\n",
       "  </tbody>\n",
       "</table>\n",
       "<p>3054348 rows × 120 columns</p>\n",
       "</div>"
      ],
      "text/plain": [
       "              date  store_nbr     sales  onpromotion  oil_price  cluster  \\\n",
       "0       2013-01-01          1     0.000            0      93.13       13   \n",
       "1       2013-01-01          1     0.000            0      93.13       13   \n",
       "2       2013-01-01          1     0.000            0      93.13       13   \n",
       "3       2013-01-01          1     0.000            0      93.13       13   \n",
       "4       2013-01-01          1     0.000            0      93.13       13   \n",
       "...            ...        ...       ...          ...        ...      ...   \n",
       "3054343 2017-08-15          9   438.133            0      47.57        6   \n",
       "3054344 2017-08-15          9   154.553            1      47.57        6   \n",
       "3054345 2017-08-15          9  2419.729          148      47.57        6   \n",
       "3054346 2017-08-15          9   121.000            8      47.57        6   \n",
       "3054347 2017-08-15          9    16.000            0      47.57        6   \n",
       "\n",
       "         WageDay  year date  month date  day date  ...  state_10  state_11  \\\n",
       "0              0       2013           1         1  ...       0.0       0.0   \n",
       "1              0       2013           1         1  ...       0.0       0.0   \n",
       "2              0       2013           1         1  ...       0.0       0.0   \n",
       "3              0       2013           1         1  ...       0.0       0.0   \n",
       "4              0       2013           1         1  ...       0.0       0.0   \n",
       "...          ...        ...         ...       ...  ...       ...       ...   \n",
       "3054343        1       2017           8        15  ...       0.0       0.0   \n",
       "3054344        1       2017           8        15  ...       0.0       0.0   \n",
       "3054345        1       2017           8        15  ...       0.0       0.0   \n",
       "3054346        1       2017           8        15  ...       0.0       0.0   \n",
       "3054347        1       2017           8        15  ...       0.0       0.0   \n",
       "\n",
       "         state_12  state_13  state_14  state_15  type_y_1  type_y_2  type_y_3  \\\n",
       "0             1.0       0.0       0.0       0.0       0.0       0.0       1.0   \n",
       "1             1.0       0.0       0.0       0.0       0.0       0.0       1.0   \n",
       "2             1.0       0.0       0.0       0.0       0.0       0.0       1.0   \n",
       "3             1.0       0.0       0.0       0.0       0.0       0.0       1.0   \n",
       "4             1.0       0.0       0.0       0.0       0.0       0.0       1.0   \n",
       "...           ...       ...       ...       ...       ...       ...       ...   \n",
       "3054343       1.0       0.0       0.0       0.0       1.0       0.0       0.0   \n",
       "3054344       1.0       0.0       0.0       0.0       1.0       0.0       0.0   \n",
       "3054345       1.0       0.0       0.0       0.0       1.0       0.0       0.0   \n",
       "3054346       1.0       0.0       0.0       0.0       1.0       0.0       0.0   \n",
       "3054347       1.0       0.0       0.0       0.0       1.0       0.0       0.0   \n",
       "\n",
       "         type_y_4  \n",
       "0             0.0  \n",
       "1             0.0  \n",
       "2             0.0  \n",
       "3             0.0  \n",
       "4             0.0  \n",
       "...           ...  \n",
       "3054343       0.0  \n",
       "3054344       0.0  \n",
       "3054345       0.0  \n",
       "3054346       0.0  \n",
       "3054347       0.0  \n",
       "\n",
       "[3054348 rows x 120 columns]"
      ]
     },
     "execution_count": 20,
     "metadata": {},
     "output_type": "execute_result"
    }
   ],
   "source": [
    "train_dataset"
   ]
  },
  {
   "cell_type": "markdown",
   "metadata": {},
   "source": [
    "### Split Dataset"
   ]
  },
  {
   "cell_type": "code",
   "execution_count": null,
   "metadata": {},
   "outputs": [
    {
     "data": {
      "text/plain": [
       "(2138043, 916305)"
      ]
     },
     "execution_count": 21,
     "metadata": {},
     "output_type": "execute_result"
    }
   ],
   "source": [
    "split = int(len(train_dataset) * 0.7)\n",
    "train_dataset, validation_dataset = train_dataset[:split], train_dataset[split:]\n",
    "\n",
    "len(train_dataset), len(validation_dataset)"
   ]
  },
  {
   "cell_type": "markdown",
   "metadata": {},
   "source": [
    "Three ways to organize our data: \n",
    "- 1. Do nothing. Leave the data unbalanced, we are getting more samples, but the predictions are awful and not correct.\n",
    "- 2. Delete all zero sales. Good way, but then there's no probability for zeros. \n",
    "- 3. Leave a small percent of all zeros in our dataset. So when we are going to predict, the model will also count the probabilities of data to be zero sales. "
   ]
  },
  {
   "cell_type": "code",
   "execution_count": null,
   "metadata": {},
   "outputs": [
    {
     "data": {
      "text/plain": [
       "(799769, 1338274)"
      ]
     },
     "execution_count": 22,
     "metadata": {},
     "output_type": "execute_result"
    }
   ],
   "source": [
    "# How much zero sales in our dataset? # How much sales > 0 in our dataset?\n",
    "len(train_dataset[train_dataset[\"sales\"] == 0]), len(train_dataset[train_dataset[\"sales\"] > 0])"
   ]
  },
  {
   "cell_type": "code",
   "execution_count": null,
   "metadata": {},
   "outputs": [],
   "source": [
    "def method_preprocessing(dataset, method: int): \n",
    "    # Method 1: Do nothing\n",
    "    if method == 1: \n",
    "        return dataset\n",
    "    elif method == 2: \n",
    "        # Delete all zero sales. Good way, but then there's no probability for zeros.\n",
    "        dataset = dataset[dataset[\"sales\"] > 0] \n",
    "        return dataset\n",
    "    elif method == 3: \n",
    "        # Leave 10% of all zeros in our dataset.  \n",
    "        zero_sales = dataset[dataset['sales'] == 0]\n",
    "        non_zero_sales = dataset[dataset['sales'] > 0]\n",
    "\n",
    "        # Undersample the zero sales data to 20%\n",
    "        zero_sales = zero_sales.sample(frac=0.2, random_state=42)\n",
    "\n",
    "        # Combine the undersampled zero sales with the non-zero sales\n",
    "        dataset = pd.concat([zero_sales, non_zero_sales])\n",
    "\n",
    "        # Shuffle the data\n",
    "        dataset = dataset.sample(frac=1, random_state=42).reset_index(drop=True)\n",
    "\n",
    "        # Sort by the date \n",
    "        dataset = dataset.sort_values(by='date').reset_index(drop=True)\n",
    "        \n",
    "        return dataset\n",
    "    else: \n",
    "        raise ValueError(f\"Method {method} is not implemented.\")"
   ]
  },
  {
   "cell_type": "code",
   "execution_count": null,
   "metadata": {},
   "outputs": [
    {
     "data": {
      "text/plain": [
       "(159954, 1338274)"
      ]
     },
     "execution_count": 24,
     "metadata": {},
     "output_type": "execute_result"
    }
   ],
   "source": [
    "train_dataset = method_preprocessing(train_dataset, method=3)\n",
    "\n",
    "# Length after undersampling\n",
    "len(train_dataset[train_dataset[\"sales\"] == 0]), len(train_dataset[train_dataset[\"sales\"] > 0])"
   ]
  },
  {
   "cell_type": "code",
   "execution_count": null,
   "metadata": {},
   "outputs": [
    {
     "data": {
      "text/plain": [
       "0"
      ]
     },
     "execution_count": 25,
     "metadata": {},
     "output_type": "execute_result"
    }
   ],
   "source": [
    "## Are there are missing values? \n",
    "train_dataset.isnull().sum().sum()"
   ]
  },
  {
   "cell_type": "markdown",
   "metadata": {},
   "source": [
    "# Save processed data "
   ]
  },
  {
   "cell_type": "markdown",
   "metadata": {},
   "source": [
    "** All the datasets weight ~2.7 Gb **"
   ]
  },
  {
   "cell_type": "code",
   "execution_count": null,
   "metadata": {},
   "outputs": [
    {
     "name": "stdout",
     "output_type": "stream",
     "text": [
      "train_dataset memory usage in gigabytes: 1.28 GB\n",
      "validation_dataset memory usage in gigabytes: 0.78 GB\n",
      "test_dataset memory usage in gigabytes: 0.02 GB\n"
     ]
    }
   ],
   "source": [
    "def memory_usage(dfs): \n",
    "    def calculate_memory_usage(df):\n",
    "        mem_usage_bytes = df.memory_usage(deep=True).sum()\n",
    "        mem_usage_gb = mem_usage_bytes / (1024 ** 3)\n",
    "        return mem_usage_gb\n",
    "\n",
    "    \n",
    "    if isinstance(dfs, dict):\n",
    "        for name, df in dfs.items():\n",
    "            mem_usage_gb = calculate_memory_usage(pd.DataFrame(df))\n",
    "            print(f\"{name} memory usage in gigabytes: {mem_usage_gb:.2f} GB\")\n",
    "    else:\n",
    "        mem_usage_gb = calculate_memory_usage(dfs)\n",
    "        print(f\"Memory usage in gigabytes: {mem_usage_gb:.2f} GB\")\n",
    "        return {\"gigabytes\": mem_usage_gb}\n",
    "\n",
    "    \n",
    "# Accepts a dictionary of dataframe\n",
    "memory_usage({\n",
    "    \"train_dataset\": train_dataset,\n",
    "    \"validation_dataset\": validation_dataset,\n",
    "    \"test_dataset\": test_data})"
   ]
  },
  {
   "cell_type": "code",
   "execution_count": null,
   "metadata": {},
   "outputs": [
    {
     "name": "stdout",
     "output_type": "stream",
     "text": [
      "File preprocessed_dataset\\test_dataset.csv already exists and will not be overwritten.\n"
     ]
    }
   ],
   "source": [
    "train_file = r\"preprocessed_dataset\\test_dataset.csv\"\n",
    "\n",
    "# Save data\n",
    "if not os.path.exists(train_file): \n",
    "    train_dataset = train_dataset.to_csv(r'preprocessed_dataset\\train_dataset.csv', index=False)\n",
    "    # No sampling for validation_dataset for correct evaluation.\n",
    "    validation_dataset = validation_dataset.to_csv(r'preprocessed_dataset\\validation_dataset.csv', index=False)\n",
    "    test_data = test_data.to_csv(r'preprocessed_dataset\\test_dataset.csv', index=False)\n",
    "    print(f\"Data was succesfully saved.\")\n",
    "else: \n",
    "    print(f'File {train_file} already exists and will not be overwritten.')"
   ]
  }
 ],
 "metadata": {
  "kernelspec": {
   "display_name": "tf",
   "language": "python",
   "name": "python3"
  },
  "language_info": {
   "codemirror_mode": {
    "name": "ipython",
    "version": 3
   },
   "file_extension": ".py",
   "mimetype": "text/x-python",
   "name": "python",
   "nbconvert_exporter": "python",
   "pygments_lexer": "ipython3",
   "version": "3.10.13"
  }
 },
 "nbformat": 4,
 "nbformat_minor": 2
}
